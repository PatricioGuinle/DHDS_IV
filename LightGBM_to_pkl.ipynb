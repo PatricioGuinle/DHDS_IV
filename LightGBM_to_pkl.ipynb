{
 "cells": [
  {
   "cell_type": "code",
   "execution_count": 1,
   "metadata": {},
   "outputs": [],
   "source": [
    "#Se importan las clases.\n",
    "import pandas as pd\n",
    "import numpy as np\n",
    "import seaborn as sns\n",
    "import matplotlib.pyplot as plt\n",
    "from sklearn.model_selection import train_test_split, KFold, cross_val_score, GridSearchCV, StratifiedKFold\n",
    "from sklearn.tree import DecisionTreeClassifier\n",
    "import lightgbm as lgb\n",
    "from sklearn.metrics import accuracy_score, confusion_matrix, classification_report\n",
    "from sklearn.preprocessing import StandardScaler, OneHotEncoder, LabelEncoder\n",
    "from sklearn.feature_selection import RFECV\n",
    "from sklearn.pipeline import Pipeline, make_pipeline, make_union\n",
    "from sklearn.base import BaseEstimator, TransformerMixin"
   ]
  },
  {
   "cell_type": "code",
   "execution_count": 76,
   "metadata": {},
   "outputs": [],
   "source": [
    "#Directorio.\n",
    "directorio = r\"data_clean.csv\""
   ]
  },
  {
   "cell_type": "markdown",
   "metadata": {},
   "source": [
    "Análisis exploratorio - Preprocesamiento"
   ]
  },
  {
   "cell_type": "code",
   "execution_count": 77,
   "metadata": {},
   "outputs": [],
   "source": [
    "#Se levanta el dataset.\n",
    "data = pd.read_csv(directorio)"
   ]
  },
  {
   "cell_type": "code",
   "execution_count": 78,
   "metadata": {},
   "outputs": [],
   "source": [
    "#Se eliminan los valores nulos.\n",
    "data = data.fillna(value = 0)"
   ]
  },
  {
   "cell_type": "code",
   "execution_count": 79,
   "metadata": {},
   "outputs": [],
   "source": [
    "#Se elimina registro que tiende a infinito.\n",
    "data.drop(data[data.cant_pedales_seg > 9999999].index, inplace = True)"
   ]
  },
  {
   "cell_type": "code",
   "execution_count": 82,
   "metadata": {},
   "outputs": [],
   "source": [
    "#Matrices de features y target.\n",
    "x = data.drop(columns = [\"Genero\", \"tema\"], axis = 1)\n",
    "y = data[\"Genero\"]\n"
   ]
  },
  {
   "cell_type": "markdown",
   "metadata": {},
   "source": [
    "data.to_csv('data_clean_new.csv')"
   ]
  },
  {
   "cell_type": "code",
   "execution_count": 56,
   "metadata": {},
   "outputs": [],
   "source": [
    "#Se importan las clases.\n",
    "from sklearn.model_selection import train_test_split, KFold, cross_val_score, GridSearchCV, StratifiedKFold\n",
    "from sklearn.tree import DecisionTreeClassifier\n",
    "import lightgbm as lgb\n",
    "from sklearn.metrics import accuracy_score, confusion_matrix, classification_report\n",
    "from sklearn.preprocessing import StandardScaler, OneHotEncoder, LabelEncoder\n",
    "from sklearn.feature_selection import RFECV\n",
    "from sklearn.pipeline import Pipeline, make_pipeline, make_union\n",
    "from sklearn.base import BaseEstimator, TransformerMixin"
   ]
  },
  {
   "cell_type": "code",
   "execution_count": 83,
   "metadata": {},
   "outputs": [
    {
     "data": {
      "text/plain": [
       "(4832, 560)"
      ]
     },
     "execution_count": 83,
     "metadata": {},
     "output_type": "execute_result"
    }
   ],
   "source": [
    "sc = StandardScaler()\n",
    "X__sc = sc.fit_transform(x)\n",
    "X__sc.shape"
   ]
  },
  {
   "cell_type": "code",
   "execution_count": 84,
   "metadata": {},
   "outputs": [],
   "source": [
    "#División del dataset.\n",
    "X_train, X_test, y_train, y_test = train_test_split(X__sc, y, stratify = y, random_state = 1)"
   ]
  },
  {
   "cell_type": "code",
   "execution_count": 85,
   "metadata": {},
   "outputs": [],
   "source": [
    "#Se instancia el LightGBM - árbol de ensamble.\n",
    "lgbm_clf = lgb.LGBMClassifier(n_estimators = 500, class_weight = 'balanced', n_jobs = -1, random_state = 42)"
   ]
  },
  {
   "cell_type": "code",
   "execution_count": 86,
   "metadata": {},
   "outputs": [
    {
     "data": {
      "text/plain": [
       "LGBMClassifier(class_weight='balanced', n_estimators=500, random_state=42)"
      ]
     },
     "execution_count": 86,
     "metadata": {},
     "output_type": "execute_result"
    }
   ],
   "source": [
    "#Se fitea el modelo.\n",
    "lgbm_clf.fit(X_train, y_train)"
   ]
  },
  {
   "cell_type": "code",
   "execution_count": 87,
   "metadata": {},
   "outputs": [],
   "source": [
    "#Predicciones en train y test.\n",
    "y_pred_train_transf = LightGBM.predict(X_train)\n",
    "y_pred_test_transf = LightGBM.predict(X_test)"
   ]
  },
  {
   "cell_type": "code",
   "execution_count": 88,
   "metadata": {},
   "outputs": [],
   "source": [
    "import pickle\n",
    "\n",
    "with open('lgbm_clf.pkl', 'wb') as df_pkl:\n",
    "    pickle.dump(lgbm_clf, df_pkl)    "
   ]
  },
  {
   "cell_type": "code",
   "execution_count": 73,
   "metadata": {},
   "outputs": [],
   "source": [
    "with open('lgbm_clf.pkl', 'rb') as df_pkl:\n",
    "        LightGBM = pickle.load(df_pkl)"
   ]
  },
  {
   "cell_type": "code",
   "execution_count": 89,
   "metadata": {},
   "outputs": [
    {
     "name": "stdout",
     "output_type": "stream",
     "text": [
      "              precision    recall  f1-score   support\n",
      "\n",
      " ClassicRock       1.00      1.00      1.00      1520\n",
      "   Classical       1.00      1.00      1.00      1083\n",
      "Dance_Techno       1.00      1.00      1.00        16\n",
      "       Forro       1.00      1.00      1.00         5\n",
      "       Hymns       1.00      1.00      1.00       242\n",
      "        Jazz       1.00      1.00      1.00       235\n",
      "     NEW-AGE       1.00      1.00      1.00       127\n",
      "        Punk       1.00      1.00      1.00        58\n",
      "      REGGAE       1.00      1.00      1.00        32\n",
      " Samba&Bossa       1.00      1.00      1.00        52\n",
      "       TANGO       1.00      1.00      1.00        59\n",
      "      latina       1.00      1.00      1.00       195\n",
      "\n",
      "    accuracy                           1.00      3624\n",
      "   macro avg       1.00      1.00      1.00      3624\n",
      "weighted avg       1.00      1.00      1.00      3624\n",
      "\n",
      "1.0\n",
      "              precision    recall  f1-score   support\n",
      "\n",
      " ClassicRock       0.91      0.96      0.93       507\n",
      "   Classical       0.98      0.99      0.98       361\n",
      "Dance_Techno       1.00      0.20      0.33         5\n",
      "       Forro       1.00      1.00      1.00         2\n",
      "       Hymns       0.98      1.00      0.99        80\n",
      "        Jazz       0.99      0.99      0.99        78\n",
      "     NEW-AGE       0.83      0.69      0.75        42\n",
      "        Punk       0.88      0.75      0.81        20\n",
      "      REGGAE       1.00      0.27      0.43        11\n",
      " Samba&Bossa       0.85      0.65      0.73        17\n",
      "       TANGO       0.85      0.85      0.85        20\n",
      "      latina       0.77      0.63      0.69        65\n",
      "\n",
      "    accuracy                           0.93      1208\n",
      "   macro avg       0.92      0.75      0.79      1208\n",
      "weighted avg       0.93      0.93      0.92      1208\n",
      "\n",
      "0.9288079470198676\n"
     ]
    }
   ],
   "source": [
    "#Resultados del modelo.\n",
    "print(classification_report(y_train, y_pred_train_transf))\n",
    "print(accuracy_score(y_train, y_pred_train_transf))\n",
    "print(classification_report(y_test, y_pred_test_transf))\n",
    "print(accuracy_score(y_test, y_pred_test_transf))"
   ]
  },
  {
   "cell_type": "code",
   "execution_count": 64,
   "metadata": {},
   "outputs": [
    {
     "data": {
      "text/plain": [
       "<matplotlib.axes._subplots.AxesSubplot at 0x22909eb7808>"
      ]
     },
     "execution_count": 64,
     "metadata": {},
     "output_type": "execute_result"
    },
    {
     "data": {
      "image/png": "[encoded data removed]",
      "text/plain": [
       "<Figure size 432x288 with 2 Axes>"
      ]
     },
     "metadata": {
      "needs_background": "light"
     },
     "output_type": "display_data"
    }
   ],
   "source": [
    "#Matriz de confusión.\n",
    "cm_lgbm = confusion_matrix(y_test, y_pred_test_transf)\n",
    "labels_gender = ['Classic Rock', 'Classical', 'Dance Techno', 'Forro', 'Hymns', 'Jazz', 'New-Age', 'Punk', 'Reggae', 'Samba & Bossa', 'Tango', 'Latina']\n",
    "ax_lgbm = sns.heatmap(cm_lgbm, annot = True, cmap = \"Reds\", fmt = \"d\", xticklabels = labels_gender, yticklabels = labels_gender)\n",
    "ax_lgbm.set(xlabel = 'Predicho', ylabel = 'Reales')\n",
    "ax_lgbm"
   ]
  },
  {
   "cell_type": "code",
   "execution_count": null,
   "metadata": {},
   "outputs": [],
   "source": [
    "#Análisis de las features. \n",
    "feature_importance = pd.DataFrame({'atributo':X_train_transf.columns, 'importancia':lgbm_clf.feature_importances_}).sort_values('importancia', \n",
    "                                                                                                                                ascending = False)\n",
    "feature_importance.head(20)"
   ]
  },
  {
   "cell_type": "code",
   "execution_count": null,
   "metadata": {},
   "outputs": [],
   "source": [
    "#Gráfico de feature importance.\n",
    "plt.figure()\n",
    "plt.title(\"Importancia de los features\")\n",
    "x_values = range(feature_importance.head(20).shape[0])\n",
    "y_values = feature_importance.head(20).importancia\n",
    "plt.bar(x_values, y_values, color = \"r\")\n",
    "plt.xticks(x_values, feature_importance.head(20).atributo, rotation = 90)\n",
    "plt.show()"
   ]
  }
 ],
 "metadata": {
  "kernelspec": {
   "display_name": "Python 3",
   "language": "python",
   "name": "python3"
  },
  "language_info": {
   "codemirror_mode": {
    "name": "ipython",
    "version": 3
   },
   "file_extension": ".py",
   "mimetype": "text/x-python",
   "name": "python",
   "nbconvert_exporter": "python",
   "pygments_lexer": "ipython3",
   "version": "3.7.7"
  }
 },
 "nbformat": 4,
 "nbformat_minor": 4
}
