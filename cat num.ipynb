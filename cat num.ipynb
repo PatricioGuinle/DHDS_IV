{
 "cells": [
  {
   "cell_type": "code",
   "execution_count": null,
   "metadata": {},
   "outputs": [],
   "source": [
    "##separa categoricas de numericas\n",
    "\n",
    "cat= []\n",
    "num=[]\n",
    "boo = []\n",
    "for i in df.columns:\n",
    "    if df[i].dtype == 'O':\n",
    "        cat.append(i)\n",
    "    elif df[i].dtype == 'bool':\n",
    "        boo.append(i)\n",
    "    else:\n",
    "        num.append(i)\n"
   ]
  }
 ],
 "metadata": {
  "kernelspec": {
   "display_name": "Python 3",
   "language": "python",
   "name": "python3"
  },
  "language_info": {
   "codemirror_mode": {
    "name": "ipython",
    "version": 3
   },
   "file_extension": ".py",
   "mimetype": "text/x-python",
   "name": "python",
   "nbconvert_exporter": "python",
   "pygments_lexer": "ipython3",
   "version": "3.7.7"
  }
 },
 "nbformat": 4,
 "nbformat_minor": 4
}
