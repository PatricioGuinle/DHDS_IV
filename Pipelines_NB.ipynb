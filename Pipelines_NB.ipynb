{
 "cells": [
  {
   "cell_type": "code",
   "execution_count": 1,
   "metadata": {},
   "outputs": [],
   "source": [
    "import pandas as pd\n",
    "import numpy as np\n",
    "import seaborn as sns\n",
    "import matplotlib as plt"
   ]
  },
  {
   "cell_type": "code",
   "execution_count": 2,
   "metadata": {},
   "outputs": [],
   "source": [
    "#Directorio.\n",
    "directorio = r\"C:\\Users\\Juan\\Documents\\Digital House\\Git Digital House\\DHDS_IV\\midi_stats_v3_drop_cols_.csv\""
   ]
  },
  {
   "cell_type": "code",
   "execution_count": 3,
   "metadata": {},
   "outputs": [],
   "source": [
    "#Se levanta el dataset.\n",
    "data = pd.read_csv(directorio)"
   ]
  },
  {
   "cell_type": "code",
   "execution_count": 4,
   "metadata": {},
   "outputs": [],
   "source": [
    "#Se eliminan los valores nulos.\n",
    "data = data.fillna(value = 0)"
   ]
  },
  {
   "cell_type": "code",
   "execution_count": 5,
   "metadata": {},
   "outputs": [],
   "source": [
    "#Se elimina registro que tiende a infinito.\n",
    "data.drop(data[data.cant_pedales_seg > 9999999].index, inplace = True)"
   ]
  },
  {
   "cell_type": "code",
   "execution_count": 6,
   "metadata": {},
   "outputs": [],
   "source": [
    "#Redondeo de floats.\n",
    "for col in data.loc[:, data.dtypes == np.float64].columns:\n",
    "    data[col] = data[col].apply(lambda x: round(x, 4))"
   ]
  },
  {
   "cell_type": "code",
   "execution_count": 7,
   "metadata": {},
   "outputs": [],
   "source": [
    "#Visualización de columnas.\n",
    "pd.options.display.max_columns = 20\n",
    "#data.head(3)"
   ]
  },
  {
   "cell_type": "code",
   "execution_count": 8,
   "metadata": {},
   "outputs": [],
   "source": [
    "#Matrices de features y target.\n",
    "x = data.drop(columns = [\"Genero\", \"tema\", \"Grupo\"], axis = 1)\n",
    "y = data[\"Genero\"]"
   ]
  },
  {
   "cell_type": "code",
   "execution_count": 9,
   "metadata": {},
   "outputs": [],
   "source": [
    "#Se importan las clases.\n",
    "from sklearn.model_selection import train_test_split, KFold, cross_val_score, GridSearchCV, StratifiedKFold\n",
    "from sklearn.neighbors import KNeighborsClassifier\n",
    "from sklearn.metrics import accuracy_score, confusion_matrix, classification_report\n",
    "from sklearn.preprocessing import StandardScaler, OneHotEncoder, LabelEncoder\n",
    "from sklearn.feature_selection import RFECV\n",
    "from sklearn.pipeline import Pipeline, make_pipeline, make_union\n",
    "from sklearn.base import BaseEstimator, TransformerMixin\n",
    "from sklearn.naive_bayes import GaussianNB"
   ]
  },
  {
   "cell_type": "code",
   "execution_count": 10,
   "metadata": {},
   "outputs": [],
   "source": [
    "#Se crea la clase para seleccionar las columnas para el procesamiento en los pipelines.\n",
    "class ColumnSelector(BaseEstimator, TransformerMixin):\n",
    "    def __init__(self, columns):\n",
    "        self.columns = columns\n",
    "    \n",
    "    def transform(self, X, *_):\n",
    "        if isinstance(X, pd.DataFrame):\n",
    "            return pd.DataFrame(X[self.columns])\n",
    "        else:\n",
    "            raise TypeError(\"Este Transformador solo funciona en DF de Pandas\")\n",
    "    \n",
    "    def fit(self, X, *_):\n",
    "        return self"
   ]
  },
  {
   "cell_type": "code",
   "execution_count": 11,
   "metadata": {},
   "outputs": [],
   "source": [
    "#Columnas categóricas / numéricas.\n",
    "categorical_columns = [col for col in x.columns if x[col].dtypes == 'object']\n",
    "non_categorical_columns = [col for col in x.columns if col not in categorical_columns]"
   ]
  },
  {
   "cell_type": "code",
   "execution_count": 12,
   "metadata": {},
   "outputs": [],
   "source": [
    "#Código para el encoder.\n",
    "categorical_columns = [col for col in x.columns if x[col].dtypes == 'object']\n",
    "encoder_categories = []\n",
    "for col in categorical_columns:    \n",
    "    col_categories = x[col].unique()\n",
    "    encoder_categories.append(col_categories)"
   ]
  },
  {
   "cell_type": "code",
   "execution_count": 13,
   "metadata": {},
   "outputs": [],
   "source": [
    "#Pipe para las categóricas.\n",
    "cs_categorical = ColumnSelector(categorical_columns)\n",
    "cs_categorical.transform(data).head(3)\n",
    "categorical_pipe = make_pipeline(ColumnSelector(categorical_columns), OneHotEncoder(categories = encoder_categories, sparse=False))"
   ]
  },
  {
   "cell_type": "code",
   "execution_count": 14,
   "metadata": {},
   "outputs": [],
   "source": [
    "#Pipe para las numéricas.\n",
    "cs_non_categorical = ColumnSelector(non_categorical_columns)\n",
    "cs_non_categorical.transform(data).head(3)\n",
    "non_categorical_pipe = make_pipeline(ColumnSelector(non_categorical_columns), StandardScaler())"
   ]
  },
  {
   "cell_type": "code",
   "execution_count": 15,
   "metadata": {},
   "outputs": [],
   "source": [
    "#Unión de los pipes.\n",
    "union = make_union(categorical_pipe, non_categorical_pipe)"
   ]
  },
  {
   "cell_type": "code",
   "execution_count": 16,
   "metadata": {},
   "outputs": [],
   "source": [
    "#División del dataset.\n",
    "X_train, X_test, y_train, y_test = train_test_split(x, y, stratify = y, random_state = 1)"
   ]
  },
  {
   "cell_type": "code",
   "execution_count": 17,
   "metadata": {},
   "outputs": [],
   "source": [
    "#Generación del pipeline.\n",
    "pipeline = Pipeline([('union', union), ('nb', GaussianNB())])"
   ]
  },
  {
   "cell_type": "code",
   "execution_count": 18,
   "metadata": {},
   "outputs": [
    {
     "data": {
      "text/plain": [
       "Pipeline(steps=[('union',\n",
       "                 FeatureUnion(transformer_list=[('pipeline-1',\n",
       "                                                 Pipeline(steps=[('columnselector',\n",
       "                                                                  ColumnSelector(columns=['first_time_signature',\n",
       "                                                                                          'tonalidad',\n",
       "                                                                                          'tonalidad_escala',\n",
       "                                                                                          'info_tracks'])),\n",
       "                                                                 ('onehotencoder',\n",
       "                                                                  OneHotEncoder(categories=[array(['3/4', '6/8', '4/4', '3/2', '9/8', '2/4', '12/8', '2/2', '6/4',\n",
       "       '2/8', '1/4', '1/8', '3/8', '8/4', '9/16', '4/2', '1/...\n",
       "                                                                                          'scale_note_avg_7',\n",
       "                                                                                          'avr_simult_notes',\n",
       "                                                                                          'cant_eventos_por_pedal',\n",
       "                                                                                          'cant_pedales_seg',\n",
       "                                                                                          'duracion_seg',\n",
       "                                                                                          'tracks_used',\n",
       "                                                                                          'avg_simult_Piano',\n",
       "                                                                                          'inst_Piano',\n",
       "                                                                                          'describe_note_num_mean',\n",
       "                                                                                          'describe_note_num_std',\n",
       "                                                                                          'describe_note_num_min',\n",
       "                                                                                          'describe_note_num_25%',\n",
       "                                                                                          'describe_note_num_50%',\n",
       "                                                                                          'describe_note_num_75%', ...])),\n",
       "                                                                 ('standardscaler',\n",
       "                                                                  StandardScaler())]))])),\n",
       "                ('nb', GaussianNB())])"
      ]
     },
     "execution_count": 18,
     "metadata": {},
     "output_type": "execute_result"
    }
   ],
   "source": [
    "#Fiteo del pipeline.\n",
    "pipeline.fit(X_train, y_train)"
   ]
  },
  {
   "cell_type": "code",
   "execution_count": 21,
   "metadata": {},
   "outputs": [],
   "source": [
    "#Predicción del pipe en train.\n",
    "y_pred_train = pipeline.predict(X_train)"
   ]
  },
  {
   "cell_type": "code",
   "execution_count": 22,
   "metadata": {},
   "outputs": [],
   "source": [
    "#Predicción del pipe en test.\n",
    "y_pred_test = pipeline.predict(X_test)"
   ]
  },
  {
   "cell_type": "code",
   "execution_count": 23,
   "metadata": {},
   "outputs": [
    {
     "name": "stdout",
     "output_type": "stream",
     "text": [
      "              precision    recall  f1-score   support\n",
      "\n",
      " ClassicRock       1.00      0.89      0.94      1520\n",
      "   Classical       1.00      1.00      1.00      1083\n",
      "Dance_Techno       0.94      1.00      0.97        16\n",
      "       Forro       1.00      1.00      1.00         5\n",
      "       Hymns       1.00      1.00      1.00       242\n",
      "        Jazz       1.00      1.00      1.00       235\n",
      "     NEW-AGE       0.85      1.00      0.92       127\n",
      "        Punk       1.00      1.00      1.00        58\n",
      "      REGGAE       0.97      1.00      0.98        32\n",
      " Samba&Bossa       0.96      1.00      0.98        52\n",
      "       TANGO       1.00      1.00      1.00        59\n",
      "      latina       0.58      0.98      0.73       195\n",
      "\n",
      "    accuracy                           0.95      3624\n",
      "   macro avg       0.94      0.99      0.96      3624\n",
      "weighted avg       0.97      0.95      0.96      3624\n",
      "\n",
      "0.9536423841059603\n",
      "              precision    recall  f1-score   support\n",
      "\n",
      " ClassicRock       0.89      0.26      0.40       507\n",
      "   Classical       0.99      0.95      0.97       361\n",
      "Dance_Techno       0.00      0.00      0.00         5\n",
      "       Forro       1.00      0.50      0.67         2\n",
      "       Hymns       1.00      0.96      0.98        80\n",
      "        Jazz       0.85      0.94      0.89        78\n",
      "     NEW-AGE       0.24      0.60      0.34        42\n",
      "        Punk       0.39      0.70      0.50        20\n",
      "      REGGAE       0.67      0.55      0.60        11\n",
      " Samba&Bossa       0.47      0.53      0.50        17\n",
      "       TANGO       0.84      0.80      0.82        20\n",
      "      latina       0.13      0.74      0.23        65\n",
      "\n",
      "    accuracy                           0.62      1208\n",
      "   macro avg       0.62      0.63      0.57      1208\n",
      "weighted avg       0.84      0.62      0.64      1208\n",
      "\n",
      "0.6150662251655629\n"
     ]
    },
    {
     "name": "stderr",
     "output_type": "stream",
     "text": [
      "C:\\Users\\Juan\\Anaconda3\\lib\\site-packages\\sklearn\\metrics\\_classification.py:1221: UndefinedMetricWarning: Precision and F-score are ill-defined and being set to 0.0 in labels with no predicted samples. Use `zero_division` parameter to control this behavior.\n",
      "  _warn_prf(average, modifier, msg_start, len(result))\n"
     ]
    }
   ],
   "source": [
    "#Resultados del modelo.\n",
    "print(classification_report(y_train, y_pred_train))\n",
    "print(accuracy_score(y_train, y_pred_train))\n",
    "print(classification_report(y_test, y_pred_test))\n",
    "print(accuracy_score(y_test, y_pred_test))"
   ]
  },
  {
   "cell_type": "code",
   "execution_count": null,
   "metadata": {},
   "outputs": [],
   "source": []
  }
 ],
 "metadata": {
  "kernelspec": {
   "display_name": "Python 3",
   "language": "python",
   "name": "python3"
  },
  "language_info": {
   "codemirror_mode": {
    "name": "ipython",
    "version": 3
   },
   "file_extension": ".py",
   "mimetype": "text/x-python",
   "name": "python",
   "nbconvert_exporter": "python",
   "pygments_lexer": "ipython3",
   "version": "3.7.7"
  }
 },
 "nbformat": 4,
 "nbformat_minor": 4
}
