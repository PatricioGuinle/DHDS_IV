{
 "cells": [
  {
   "cell_type": "code",
   "execution_count": 1,
   "metadata": {},
   "outputs": [],
   "source": [
    "import pandas as pd\n",
    "import numpy as np\n",
    "import seaborn as sns\n",
    "import matplotlib as plt"
   ]
  },
  {
   "cell_type": "code",
   "execution_count": 2,
   "metadata": {},
   "outputs": [],
   "source": [
    "#Directorio.\n",
    "directorio = r\"C:\\Users\\Juan\\Documents\\Digital House\\Git Digital House\\DHDS_IV\\midi_stats_v3_drop_cols_.csv\""
   ]
  },
  {
   "cell_type": "code",
   "execution_count": 3,
   "metadata": {},
   "outputs": [],
   "source": [
    "#Se levanta el dataset.\n",
    "data = pd.read_csv(directorio)"
   ]
  },
  {
   "cell_type": "code",
   "execution_count": 4,
   "metadata": {},
   "outputs": [],
   "source": [
    "#Se eliminan los valores nulos.\n",
    "data = data.fillna(value = 0)"
   ]
  },
  {
   "cell_type": "code",
   "execution_count": 5,
   "metadata": {},
   "outputs": [],
   "source": [
    "#Se elimina registro que tiende a infinito.\n",
    "data.drop(data[data.cant_pedales_seg > 9999999].index, inplace = True)"
   ]
  },
  {
   "cell_type": "code",
   "execution_count": 6,
   "metadata": {},
   "outputs": [],
   "source": [
    "#Redondeo de floats.\n",
    "for col in data.loc[:, data.dtypes == np.float64].columns:\n",
    "    data[col] = data[col].apply(lambda x: round(x, 4))"
   ]
  },
  {
   "cell_type": "code",
   "execution_count": 7,
   "metadata": {},
   "outputs": [],
   "source": [
    "#Visualización de columnas.\n",
    "pd.options.display.max_columns = 20\n",
    "#data.head(3)"
   ]
  },
  {
   "cell_type": "code",
   "execution_count": 8,
   "metadata": {},
   "outputs": [],
   "source": [
    "#Matrices de features y target.\n",
    "x = data.drop(columns = [\"Genero\", \"tema\", \"Grupo\", \"info_tracks\", \"Unnamed: 0\"], axis = 1)\n",
    "y = data[\"Genero\"]"
   ]
  },
  {
   "cell_type": "code",
   "execution_count": 9,
   "metadata": {},
   "outputs": [],
   "source": [
    "#Se importan las clases.\n",
    "from sklearn.model_selection import train_test_split, KFold, cross_val_score, GridSearchCV, StratifiedKFold\n",
    "from sklearn.neighbors import KNeighborsClassifier\n",
    "from sklearn.metrics import accuracy_score, confusion_matrix, classification_report\n",
    "from sklearn.preprocessing import StandardScaler, OneHotEncoder, LabelEncoder\n",
    "from sklearn.feature_selection import RFECV\n",
    "from sklearn.pipeline import Pipeline, make_pipeline, make_union\n",
    "from sklearn.base import BaseEstimator, TransformerMixin\n",
    "from sklearn.naive_bayes import GaussianNB"
   ]
  },
  {
   "cell_type": "code",
   "execution_count": 10,
   "metadata": {},
   "outputs": [],
   "source": [
    "#Se crea la clase para seleccionar las columnas para el procesamiento en los pipelines.\n",
    "class ColumnSelector(BaseEstimator, TransformerMixin):\n",
    "    def __init__(self, columns):\n",
    "        self.columns = columns\n",
    "    \n",
    "    def transform(self, X, *_):\n",
    "        if isinstance(X, pd.DataFrame):\n",
    "            return pd.DataFrame(X[self.columns])\n",
    "        else:\n",
    "            raise TypeError(\"Este Transformador solo funciona en DF de Pandas\")\n",
    "    \n",
    "    def fit(self, X, *_):\n",
    "        return self"
   ]
  },
  {
   "cell_type": "code",
   "execution_count": 11,
   "metadata": {},
   "outputs": [],
   "source": [
    "#Columnas categóricas / numéricas.\n",
    "categorical_columns = [col for col in x.columns if x[col].dtypes == 'object']\n",
    "non_categorical_columns = [col for col in x.columns if col not in categorical_columns]"
   ]
  },
  {
   "cell_type": "code",
   "execution_count": 12,
   "metadata": {},
   "outputs": [],
   "source": [
    "#Código para el encoder.\n",
    "categorical_columns = [col for col in x.columns if x[col].dtypes == 'object']\n",
    "encoder_categories = []\n",
    "for col in categorical_columns:    \n",
    "    col_categories = x[col].unique()\n",
    "    encoder_categories.append(col_categories)"
   ]
  },
  {
   "cell_type": "code",
   "execution_count": 13,
   "metadata": {},
   "outputs": [],
   "source": [
    "#Pipe para las categóricas.\n",
    "cs_categorical = ColumnSelector(categorical_columns)\n",
    "cs_categorical.transform(data).head(3)\n",
    "categorical_pipe = make_pipeline(ColumnSelector(categorical_columns), OneHotEncoder(categories = encoder_categories, sparse=False))"
   ]
  },
  {
   "cell_type": "code",
   "execution_count": 14,
   "metadata": {},
   "outputs": [],
   "source": [
    "#Pipe para las numéricas.\n",
    "cs_non_categorical = ColumnSelector(non_categorical_columns)\n",
    "cs_non_categorical.transform(data).head(3)\n",
    "non_categorical_pipe = make_pipeline(ColumnSelector(non_categorical_columns), StandardScaler())"
   ]
  },
  {
   "cell_type": "code",
   "execution_count": 15,
   "metadata": {},
   "outputs": [],
   "source": [
    "#Unión de los pipes.\n",
    "union = make_union(categorical_pipe, non_categorical_pipe)"
   ]
  },
  {
   "cell_type": "code",
   "execution_count": 16,
   "metadata": {},
   "outputs": [],
   "source": [
    "#División del dataset.\n",
    "X_train, X_test, y_train, y_test = train_test_split(x, y, stratify = y, random_state = 1)"
   ]
  },
  {
   "cell_type": "code",
   "execution_count": 17,
   "metadata": {},
   "outputs": [],
   "source": [
    "#Generación del pipeline.\n",
    "pipeline = Pipeline([('union', union), ('nb', GaussianNB())])"
   ]
  },
  {
   "cell_type": "code",
   "execution_count": 18,
   "metadata": {},
   "outputs": [
    {
     "data": {
      "text/plain": [
       "Pipeline(steps=[('union',\n",
       "                 FeatureUnion(transformer_list=[('pipeline-1',\n",
       "                                                 Pipeline(steps=[('columnselector',\n",
       "                                                                  ColumnSelector(columns=['first_time_signature',\n",
       "                                                                                          'tonalidad',\n",
       "                                                                                          'tonalidad_escala'])),\n",
       "                                                                 ('onehotencoder',\n",
       "                                                                  OneHotEncoder(categories=[array(['3/4', '6/8', '4/4', '3/2', '9/8', '2/4', '12/8', '2/2', '6/4',\n",
       "       '2/8', '1/4', '1/8', '3/8', '8/4', '9/16', '4/2', '1/2', '12/16',\n",
       "       '1/...\n",
       "                                                                                          'avr_simult_notes',\n",
       "                                                                                          'cant_eventos_por_pedal',\n",
       "                                                                                          'cant_pedales_seg',\n",
       "                                                                                          'duracion_seg',\n",
       "                                                                                          'tracks_used',\n",
       "                                                                                          'avg_simult_Piano',\n",
       "                                                                                          'inst_Piano',\n",
       "                                                                                          'describe_note_num_mean',\n",
       "                                                                                          'describe_note_num_std',\n",
       "                                                                                          'describe_note_num_min',\n",
       "                                                                                          'describe_note_num_25%',\n",
       "                                                                                          'describe_note_num_50%',\n",
       "                                                                                          'describe_note_num_75%',\n",
       "                                                                                          'describe_note_num_max', ...])),\n",
       "                                                                 ('standardscaler',\n",
       "                                                                  StandardScaler())]))])),\n",
       "                ('nb', GaussianNB())])"
      ]
     },
     "execution_count": 18,
     "metadata": {},
     "output_type": "execute_result"
    }
   ],
   "source": [
    "#Fiteo del pipeline.\n",
    "pipeline.fit(X_train, y_train)"
   ]
  },
  {
   "cell_type": "code",
   "execution_count": 19,
   "metadata": {},
   "outputs": [],
   "source": [
    "#Predicción del pipe en train.\n",
    "y_pred_train = pipeline.predict(X_train)"
   ]
  },
  {
   "cell_type": "code",
   "execution_count": 20,
   "metadata": {},
   "outputs": [],
   "source": [
    "#Predicción del pipe en test.\n",
    "y_pred_test = pipeline.predict(X_test)"
   ]
  },
  {
   "cell_type": "code",
   "execution_count": 21,
   "metadata": {},
   "outputs": [
    {
     "name": "stdout",
     "output_type": "stream",
     "text": [
      "              precision    recall  f1-score   support\n",
      "\n",
      " ClassicRock       0.98      0.42      0.59      1520\n",
      "   Classical       0.95      0.90      0.92      1083\n",
      "Dance_Techno       0.42      1.00      0.59        16\n",
      "       Forro       1.00      1.00      1.00         5\n",
      "       Hymns       0.92      1.00      0.96       242\n",
      "        Jazz       0.96      1.00      0.98       235\n",
      "     NEW-AGE       0.40      0.54      0.46       127\n",
      "        Punk       0.41      1.00      0.58        58\n",
      "      REGGAE       0.21      0.97      0.34        32\n",
      " Samba&Bossa       0.41      0.96      0.57        52\n",
      "       TANGO       0.38      1.00      0.55        59\n",
      "      latina       0.24      0.82      0.38       195\n",
      "\n",
      "    accuracy                           0.70      3624\n",
      "   macro avg       0.61      0.88      0.66      3624\n",
      "weighted avg       0.87      0.70      0.72      3624\n",
      "\n",
      "0.7008830022075055\n",
      "              precision    recall  f1-score   support\n",
      "\n",
      " ClassicRock       0.86      0.38      0.53       507\n",
      "   Classical       0.96      0.86      0.90       361\n",
      "Dance_Techno       0.00      0.00      0.00         5\n",
      "       Forro       1.00      0.50      0.67         2\n",
      "       Hymns       0.92      0.96      0.94        80\n",
      "        Jazz       0.93      0.91      0.92        78\n",
      "     NEW-AGE       0.26      0.38      0.31        42\n",
      "        Punk       0.30      0.70      0.42        20\n",
      "      REGGAE       0.11      0.55      0.18        11\n",
      " Samba&Bossa       0.24      0.53      0.33        17\n",
      "       TANGO       0.28      0.80      0.41        20\n",
      "      latina       0.18      0.66      0.29        65\n",
      "\n",
      "    accuracy                           0.63      1208\n",
      "   macro avg       0.50      0.60      0.49      1208\n",
      "weighted avg       0.80      0.63      0.66      1208\n",
      "\n",
      "0.6258278145695364\n"
     ]
    }
   ],
   "source": [
    "#Resultados del modelo.\n",
    "print(classification_report(y_train, y_pred_train))\n",
    "print(accuracy_score(y_train, y_pred_train))\n",
    "print(classification_report(y_test, y_pred_test))\n",
    "print(accuracy_score(y_test, y_pred_test))"
   ]
  },
  {
   "cell_type": "code",
   "execution_count": null,
   "metadata": {},
   "outputs": [],
   "source": []
  }
 ],
 "metadata": {
  "kernelspec": {
   "display_name": "Python 3",
   "language": "python",
   "name": "python3"
  },
  "language_info": {
   "codemirror_mode": {
    "name": "ipython",
    "version": 3
   },
   "file_extension": ".py",
   "mimetype": "text/x-python",
   "name": "python",
   "nbconvert_exporter": "python",
   "pygments_lexer": "ipython3",
   "version": "3.7.7"
  }
 },
 "nbformat": 4,
 "nbformat_minor": 4
}
