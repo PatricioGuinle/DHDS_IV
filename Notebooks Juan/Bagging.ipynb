{
 "cells": [
  {
   "cell_type": "code",
   "execution_count": 17,
   "metadata": {},
   "outputs": [],
   "source": [
    "import pandas as pd\n",
    "import numpy as np\n",
    "import seaborn as sns\n",
    "import matplotlib as plt"
   ]
  },
  {
   "cell_type": "code",
   "execution_count": 18,
   "metadata": {},
   "outputs": [],
   "source": [
    "#Directorio.\n",
    "directorio = r\"C:\\Users\\Juan\\Documents\\Digital House\\Git Digital House\\DHDS_IV\\midi_stats_v3_drop_cols_.csv\""
   ]
  },
  {
   "cell_type": "code",
   "execution_count": 19,
   "metadata": {},
   "outputs": [],
   "source": [
    "#Se levanta el dataset.\n",
    "data = pd.read_csv(directorio)"
   ]
  },
  {
   "cell_type": "code",
   "execution_count": 20,
   "metadata": {},
   "outputs": [],
   "source": [
    "#Se eliminan los valores nulos.\n",
    "data = data.fillna(value = 0)"
   ]
  },
  {
   "cell_type": "code",
   "execution_count": 21,
   "metadata": {},
   "outputs": [],
   "source": [
    "#Se elimina registro que tiende a infinito.\n",
    "data.drop(data[data.cant_pedales_seg > 9999999].index, inplace = True)"
   ]
  },
  {
   "cell_type": "code",
   "execution_count": 22,
   "metadata": {},
   "outputs": [],
   "source": [
    "#Redondeo de floats.\n",
    "for col in data.loc[:, data.dtypes == np.float64].columns:\n",
    "    data[col] = data[col].apply(lambda x: round(x, 4))"
   ]
  },
  {
   "cell_type": "code",
   "execution_count": 23,
   "metadata": {},
   "outputs": [],
   "source": [
    "#Visualización de columnas.\n",
    "pd.options.display.max_columns = 20\n",
    "#data.head(3)"
   ]
  },
  {
   "cell_type": "code",
   "execution_count": 24,
   "metadata": {},
   "outputs": [],
   "source": [
    "#Matrices de features y target.\n",
    "x = data.drop(columns = [\"Genero\", \"tema\", \"Grupo\", \"info_tracks\", \"Unnamed: 0\"], axis = 1)\n",
    "y = data[\"Genero\"]"
   ]
  },
  {
   "cell_type": "code",
   "execution_count": 49,
   "metadata": {},
   "outputs": [],
   "source": [
    "#Se importan las clases.\n",
    "from sklearn.model_selection import train_test_split, KFold, cross_val_score, GridSearchCV, StratifiedKFold\n",
    "from sklearn.tree import DecisionTreeClassifier\n",
    "from sklearn.ensemble import BaggingClassifier\n",
    "from sklearn.metrics import accuracy_score, confusion_matrix, classification_report\n",
    "from sklearn.preprocessing import StandardScaler, OneHotEncoder, LabelEncoder\n",
    "from sklearn.feature_selection import RFECV\n",
    "from sklearn.pipeline import Pipeline, make_pipeline, make_union\n",
    "from sklearn.base import BaseEstimator, TransformerMixin"
   ]
  },
  {
   "cell_type": "code",
   "execution_count": 26,
   "metadata": {},
   "outputs": [],
   "source": [
    "#Columnas categóricas / numéricas.\n",
    "categorical_columns = [col for col in x.columns if x[col].dtypes == 'object']\n",
    "non_categorical_columns = [col for col in x.columns if col not in categorical_columns]"
   ]
  },
  {
   "cell_type": "code",
   "execution_count": 27,
   "metadata": {},
   "outputs": [],
   "source": [
    "#Código para el encoder.\n",
    "categorical_columns = [col for col in x.columns if x[col].dtypes == 'object']\n",
    "encoder_categories = []\n",
    "for col in categorical_columns:    \n",
    "    col_categories = x[col].unique()\n",
    "    encoder_categories.append(col_categories)"
   ]
  },
  {
   "cell_type": "code",
   "execution_count": 28,
   "metadata": {},
   "outputs": [],
   "source": [
    "#División del dataset.\n",
    "X_train, X_test, y_train, y_test = train_test_split(x, y, stratify = y, random_state = 1)"
   ]
  },
  {
   "cell_type": "code",
   "execution_count": 29,
   "metadata": {},
   "outputs": [],
   "source": [
    "#Feature Engineering - columnas categóricas.\n",
    "categorical_columns = [col for col in x.columns if x[col].dtypes == 'object']\n",
    "encoder_categories = []\n",
    "for col in categorical_columns:    \n",
    "    col_categories = x[col].unique()\n",
    "    encoder_categories.append(col_categories)\n",
    "#encoder_categories"
   ]
  },
  {
   "cell_type": "code",
   "execution_count": 30,
   "metadata": {},
   "outputs": [],
   "source": [
    "#Encoder.\n",
    "encoder = OneHotEncoder(categories = encoder_categories, sparse=False)\n",
    "encoder = encoder.fit(X_train[categorical_columns])\n",
    "X_train_encoded = encoder.transform(X_train[categorical_columns])\n",
    "X_train_categorical = pd.DataFrame(X_train_encoded, columns = encoder.get_feature_names(categorical_columns))\n",
    "X_test_encoded = encoder.transform(X_test[categorical_columns])\n",
    "X_test_categorical = pd.DataFrame(X_test_encoded, columns = encoder.get_feature_names(categorical_columns))\n",
    "#X_train_categorical.head(3)\n",
    "#X_test_categorical.head(3)"
   ]
  },
  {
   "cell_type": "code",
   "execution_count": 31,
   "metadata": {},
   "outputs": [],
   "source": [
    "#Feature Engineering - columnas numéricas.\n",
    "non_categorical_columns = [col for col in X_train.columns if col not in categorical_columns]\n",
    "#non_categorical_columns"
   ]
  },
  {
   "cell_type": "code",
   "execution_count": 32,
   "metadata": {},
   "outputs": [],
   "source": [
    "#Estandarización X_train.\n",
    "std_sclr = StandardScaler()\n",
    "std_sclr_trained = std_sclr.fit(X_train[non_categorical_columns])\n",
    "X_train_numerical = std_sclr_trained.transform(X_train[non_categorical_columns])\n",
    "X_train_numerical_scaled = pd.DataFrame(X_train_numerical, columns = non_categorical_columns)\n",
    "#X_train_numerical_scaled.head()"
   ]
  },
  {
   "cell_type": "code",
   "execution_count": 33,
   "metadata": {},
   "outputs": [],
   "source": [
    "#Estandarización X_test.\n",
    "X_test_numerical = std_sclr_trained.transform(X_test[non_categorical_columns])\n",
    "X_test_numerical_scaled = pd.DataFrame(X_test_numerical, columns = non_categorical_columns)\n",
    "#X_test_numerical_scaled.head()"
   ]
  },
  {
   "cell_type": "code",
   "execution_count": 34,
   "metadata": {},
   "outputs": [],
   "source": [
    "#Concatenación de dataframes de entrenamiento.\n",
    "X_train_transf = pd.concat([X_train_categorical, X_train_numerical_scaled], axis = 1)\n",
    "#print(X_train_categorical.shape)\n",
    "#print(X_train_numerical_scaled.shape)\n",
    "#print(X_train_transf.shape)"
   ]
  },
  {
   "cell_type": "code",
   "execution_count": 35,
   "metadata": {},
   "outputs": [],
   "source": [
    "#Concatenación de dataframes de testeo.\n",
    "X_test_transf = pd.concat([X_test_categorical, X_test_numerical_scaled], axis = 1)\n",
    "#print(X_test_categorical.shape)\n",
    "#print(X_test_numerical_scaled.shape)\n",
    "#print(X_test_transf.shape)"
   ]
  },
  {
   "cell_type": "code",
   "execution_count": 36,
   "metadata": {},
   "outputs": [],
   "source": [
    "#Se instancia el arbol de decisión.\n",
    "clftree = DecisionTreeClassifier(random_state = 42, criterion = \"entropy\", max_depth = 8, min_samples_leaf = 15, min_samples_split = 2)"
   ]
  },
  {
   "cell_type": "code",
   "execution_count": 37,
   "metadata": {},
   "outputs": [],
   "source": [
    "#Se instancia el bagging - árbol de ensamble.\n",
    "bag_clf = BaggingClassifier(base_estimator = clftree, n_estimators = 1000,\n",
    "                            bootstrap = True, n_jobs = -1,\n",
    "                            random_state = 42)"
   ]
  },
  {
   "cell_type": "code",
   "execution_count": 39,
   "metadata": {},
   "outputs": [
    {
     "data": {
      "text/plain": [
       "BaggingClassifier(base_estimator=DecisionTreeClassifier(criterion='entropy',\n",
       "                                                        max_depth=8,\n",
       "                                                        min_samples_leaf=15,\n",
       "                                                        random_state=42),\n",
       "                  n_estimators=1000, n_jobs=-1, random_state=42)"
      ]
     },
     "execution_count": 39,
     "metadata": {},
     "output_type": "execute_result"
    }
   ],
   "source": [
    "#Se fitea el modelo.\n",
    "bag_clf.fit(X_train_transf, y_train)"
   ]
  },
  {
   "cell_type": "code",
   "execution_count": 41,
   "metadata": {},
   "outputs": [],
   "source": [
    "#Predicciones en train y test.\n",
    "y_pred_train_transf = bag_clf.predict(X_train_transf)\n",
    "y_pred_test_transf = bag_clf.predict(X_test_transf)"
   ]
  },
  {
   "cell_type": "code",
   "execution_count": 42,
   "metadata": {},
   "outputs": [
    {
     "name": "stdout",
     "output_type": "stream",
     "text": [
      "              precision    recall  f1-score   support\n",
      "\n",
      " ClassicRock       0.86      0.98      0.92      1520\n",
      "   Classical       0.93      0.99      0.96      1083\n",
      "Dance_Techno       0.00      0.00      0.00        16\n",
      "       Forro       0.00      0.00      0.00         5\n",
      "       Hymns       0.96      0.99      0.98       242\n",
      "        Jazz       0.99      0.93      0.96       235\n",
      "     NEW-AGE       0.83      0.54      0.65       127\n",
      "        Punk       1.00      0.45      0.62        58\n",
      "      REGGAE       0.00      0.00      0.00        32\n",
      " Samba&Bossa       1.00      0.54      0.70        52\n",
      "       TANGO       0.92      0.75      0.82        59\n",
      "      latina       0.93      0.47      0.62       195\n",
      "\n",
      "    accuracy                           0.90      3624\n",
      "   macro avg       0.70      0.55      0.60      3624\n",
      "weighted avg       0.89      0.90      0.89      3624\n",
      "\n",
      "0.9036975717439294\n",
      "              precision    recall  f1-score   support\n",
      "\n",
      " ClassicRock       0.83      0.94      0.88       507\n",
      "   Classical       0.91      0.98      0.94       361\n",
      "Dance_Techno       0.00      0.00      0.00         5\n",
      "       Forro       0.00      0.00      0.00         2\n",
      "       Hymns       0.96      0.96      0.96        80\n",
      "        Jazz       0.95      0.92      0.94        78\n",
      "     NEW-AGE       0.69      0.52      0.59        42\n",
      "        Punk       1.00      0.30      0.46        20\n",
      "      REGGAE       0.00      0.00      0.00        11\n",
      " Samba&Bossa       0.80      0.47      0.59        17\n",
      "       TANGO       0.86      0.60      0.71        20\n",
      "      latina       0.90      0.28      0.42        65\n",
      "\n",
      "    accuracy                           0.87      1208\n",
      "   macro avg       0.66      0.50      0.54      1208\n",
      "weighted avg       0.86      0.87      0.85      1208\n",
      "\n",
      "0.8683774834437086\n"
     ]
    },
    {
     "name": "stderr",
     "output_type": "stream",
     "text": [
      "C:\\Users\\Juan\\Anaconda3\\lib\\site-packages\\sklearn\\metrics\\_classification.py:1221: UndefinedMetricWarning: Precision and F-score are ill-defined and being set to 0.0 in labels with no predicted samples. Use `zero_division` parameter to control this behavior.\n",
      "  _warn_prf(average, modifier, msg_start, len(result))\n"
     ]
    }
   ],
   "source": [
    "#Resultados del modelo.\n",
    "print(classification_report(y_train, y_pred_train_transf))\n",
    "print(accuracy_score(y_train, y_pred_train_transf))\n",
    "print(classification_report(y_test, y_pred_test_transf))\n",
    "print(accuracy_score(y_test, y_pred_test_transf))"
   ]
  },
  {
   "cell_type": "code",
   "execution_count": 43,
   "metadata": {},
   "outputs": [
    {
     "data": {
      "text/plain": [
       "array([[479,  18,   0,   0,   2,   2,   4,   0,   0,   1,   0,   1],\n",
       "       [  1, 355,   0,   0,   0,   0,   4,   0,   0,   0,   1,   0],\n",
       "       [  5,   0,   0,   0,   0,   0,   0,   0,   0,   0,   0,   0],\n",
       "       [  2,   0,   0,   0,   0,   0,   0,   0,   0,   0,   0,   0],\n",
       "       [  0,   3,   0,   0,  77,   0,   0,   0,   0,   0,   0,   0],\n",
       "       [  5,   1,   0,   0,   0,  72,   0,   0,   0,   0,   0,   0],\n",
       "       [ 12,   7,   0,   0,   1,   0,  22,   0,   0,   0,   0,   0],\n",
       "       [ 14,   0,   0,   0,   0,   0,   0,   6,   0,   0,   0,   0],\n",
       "       [ 11,   0,   0,   0,   0,   0,   0,   0,   0,   0,   0,   0],\n",
       "       [  6,   1,   0,   0,   0,   0,   0,   0,   0,   8,   1,   1],\n",
       "       [  2,   5,   0,   0,   0,   0,   1,   0,   0,   0,  12,   0],\n",
       "       [ 42,   1,   0,   0,   0,   2,   1,   0,   0,   1,   0,  18]],\n",
       "      dtype=int64)"
      ]
     },
     "execution_count": 43,
     "metadata": {},
     "output_type": "execute_result"
    }
   ],
   "source": [
    "#Matriz de confusión.\n",
    "confusion_matrix(y_test, y_pred_test_transf)"
   ]
  },
  {
   "cell_type": "code",
   "execution_count": 55,
   "metadata": {},
   "outputs": [
    {
     "data": {
      "text/html": [
       "<div>\n",
       "<style scoped>\n",
       "    .dataframe tbody tr th:only-of-type {\n",
       "        vertical-align: middle;\n",
       "    }\n",
       "\n",
       "    .dataframe tbody tr th {\n",
       "        vertical-align: top;\n",
       "    }\n",
       "\n",
       "    .dataframe thead th {\n",
       "        text-align: right;\n",
       "    }\n",
       "</style>\n",
       "<table border=\"1\" class=\"dataframe\">\n",
       "  <thead>\n",
       "    <tr style=\"text-align: right;\">\n",
       "      <th></th>\n",
       "      <th>atributo</th>\n",
       "      <th>importancia</th>\n",
       "    </tr>\n",
       "  </thead>\n",
       "  <tbody>\n",
       "    <tr>\n",
       "      <th>382</th>\n",
       "      <td>inst_Drum</td>\n",
       "      <td>0.408691</td>\n",
       "    </tr>\n",
       "    <tr>\n",
       "      <th>336</th>\n",
       "      <td>inst_Electric Piano</td>\n",
       "      <td>0.086279</td>\n",
       "    </tr>\n",
       "    <tr>\n",
       "      <th>337</th>\n",
       "      <td>('Electric Piano', 0.0)</td>\n",
       "      <td>0.045388</td>\n",
       "    </tr>\n",
       "    <tr>\n",
       "      <th>522</th>\n",
       "      <td>('ride', 0.938)</td>\n",
       "      <td>0.045296</td>\n",
       "    </tr>\n",
       "    <tr>\n",
       "      <th>245</th>\n",
       "      <td>('Acoustic Bass', 0.0)</td>\n",
       "      <td>0.040230</td>\n",
       "    </tr>\n",
       "    <tr>\n",
       "      <th>...</th>\n",
       "      <td>...</td>\n",
       "      <td>...</td>\n",
       "    </tr>\n",
       "    <tr>\n",
       "      <th>110</th>\n",
       "      <td>('Harpsicord', 0.375)</td>\n",
       "      <td>0.000000</td>\n",
       "    </tr>\n",
       "    <tr>\n",
       "      <th>109</th>\n",
       "      <td>('Harpsicord', 0.5)</td>\n",
       "      <td>0.000000</td>\n",
       "    </tr>\n",
       "    <tr>\n",
       "      <th>387</th>\n",
       "      <td>('Tom', 0.375)</td>\n",
       "      <td>0.000000</td>\n",
       "    </tr>\n",
       "    <tr>\n",
       "      <th>389</th>\n",
       "      <td>('Tom', 0.625)</td>\n",
       "      <td>0.000000</td>\n",
       "    </tr>\n",
       "    <tr>\n",
       "      <th>301</th>\n",
       "      <td>('Piano', 0.417)</td>\n",
       "      <td>0.000000</td>\n",
       "    </tr>\n",
       "  </tbody>\n",
       "</table>\n",
       "<p>602 rows × 2 columns</p>\n",
       "</div>"
      ],
      "text/plain": [
       "                    atributo  importancia\n",
       "382                inst_Drum     0.408691\n",
       "336      inst_Electric Piano     0.086279\n",
       "337  ('Electric Piano', 0.0)     0.045388\n",
       "522          ('ride', 0.938)     0.045296\n",
       "245   ('Acoustic Bass', 0.0)     0.040230\n",
       "..                       ...          ...\n",
       "110    ('Harpsicord', 0.375)     0.000000\n",
       "109      ('Harpsicord', 0.5)     0.000000\n",
       "387           ('Tom', 0.375)     0.000000\n",
       "389           ('Tom', 0.625)     0.000000\n",
       "301         ('Piano', 0.417)     0.000000\n",
       "\n",
       "[602 rows x 2 columns]"
      ]
     },
     "execution_count": 55,
     "metadata": {},
     "output_type": "execute_result"
    }
   ],
   "source": [
    "#Análisis de features.\n",
    "feature_importance = pd.DataFrame({'atributo':X_train_transf.columns, 'importancia':np.mean([tree.feature_importances_ for tree in bag_clf.estimators_], \n",
    "                                                                                            axis=0)}).sort_values('importancia', ascending = False)\n",
    "feature_importance"
   ]
  },
  {
   "cell_type": "code",
   "execution_count": null,
   "metadata": {},
   "outputs": [],
   "source": []
  }
 ],
 "metadata": {
  "kernelspec": {
   "display_name": "Python 3",
   "language": "python",
   "name": "python3"
  },
  "language_info": {
   "codemirror_mode": {
    "name": "ipython",
    "version": 3
   },
   "file_extension": ".py",
   "mimetype": "text/x-python",
   "name": "python",
   "nbconvert_exporter": "python",
   "pygments_lexer": "ipython3",
   "version": "3.7.7"
  }
 },
 "nbformat": 4,
 "nbformat_minor": 4
}
