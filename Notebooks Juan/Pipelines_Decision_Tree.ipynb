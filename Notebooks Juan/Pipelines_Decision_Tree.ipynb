{
 "cells": [
  {
   "cell_type": "code",
   "execution_count": 45,
   "metadata": {},
   "outputs": [],
   "source": [
    "import pandas as pd\n",
    "import numpy as np\n",
    "import seaborn as sns\n",
    "import matplotlib as plt"
   ]
  },
  {
   "cell_type": "code",
   "execution_count": 46,
   "metadata": {},
   "outputs": [],
   "source": [
    "#Directorio.\n",
    "directorio = r\"C:\\Users\\Juan\\Documents\\Digital House\\Git Digital House\\DHDS_IV\\midi_stats_v3_drop_cols_.csv\""
   ]
  },
  {
   "cell_type": "code",
   "execution_count": 47,
   "metadata": {},
   "outputs": [],
   "source": [
    "#Se levanta el dataset.\n",
    "data = pd.read_csv(directorio)"
   ]
  },
  {
   "cell_type": "code",
   "execution_count": 48,
   "metadata": {},
   "outputs": [],
   "source": [
    "#Se eliminan los valores nulos.\n",
    "data = data.fillna(value = 0)"
   ]
  },
  {
   "cell_type": "code",
   "execution_count": 49,
   "metadata": {},
   "outputs": [],
   "source": [
    "#Se elimina registro que tiende a infinito.\n",
    "data.drop(data[data.cant_pedales_seg > 9999999].index, inplace = True)"
   ]
  },
  {
   "cell_type": "code",
   "execution_count": 50,
   "metadata": {},
   "outputs": [],
   "source": [
    "#Redondeo de floats.\n",
    "for col in data.loc[:, data.dtypes == np.float64].columns:\n",
    "    data[col] = data[col].apply(lambda x: round(x, 4))"
   ]
  },
  {
   "cell_type": "code",
   "execution_count": 51,
   "metadata": {},
   "outputs": [],
   "source": [
    "#Visualización de columnas.\n",
    "pd.options.display.max_columns = 20\n",
    "#data.head(3)"
   ]
  },
  {
   "cell_type": "code",
   "execution_count": 52,
   "metadata": {},
   "outputs": [],
   "source": [
    "#Matrices de features y target.\n",
    "x = data.drop(columns = [\"Genero\", \"tema\", \"Grupo\", \"info_tracks\", \"Unnamed: 0\"], axis = 1)\n",
    "y = data[\"Genero\"]"
   ]
  },
  {
   "cell_type": "code",
   "execution_count": 53,
   "metadata": {},
   "outputs": [],
   "source": [
    "#Se importan las clases.\n",
    "from sklearn.model_selection import train_test_split, KFold, cross_val_score, GridSearchCV, StratifiedKFold\n",
    "from sklearn.tree import DecisionTreeClassifier\n",
    "from sklearn.metrics import accuracy_score, confusion_matrix, classification_report\n",
    "from sklearn.preprocessing import StandardScaler, OneHotEncoder, LabelEncoder\n",
    "from sklearn.feature_selection import RFECV\n",
    "from sklearn.pipeline import Pipeline, make_pipeline, make_union\n",
    "from sklearn.base import BaseEstimator, TransformerMixin"
   ]
  },
  {
   "cell_type": "code",
   "execution_count": 54,
   "metadata": {},
   "outputs": [],
   "source": [
    "#Se crea la clase para seleccionar las columnas para el procesamiento en los pipelines.\n",
    "class ColumnSelector(BaseEstimator, TransformerMixin):\n",
    "    def __init__(self, columns):\n",
    "        self.columns = columns\n",
    "    \n",
    "    def transform(self, X, *_):\n",
    "        if isinstance(X, pd.DataFrame):\n",
    "            return pd.DataFrame(X[self.columns])\n",
    "        else:\n",
    "            raise TypeError(\"Este Transformador solo funciona en DF de Pandas\")\n",
    "    \n",
    "    def fit(self, X, *_):\n",
    "        return self"
   ]
  },
  {
   "cell_type": "code",
   "execution_count": 55,
   "metadata": {},
   "outputs": [],
   "source": [
    "#Columnas categóricas / numéricas.\n",
    "categorical_columns = [col for col in x.columns if x[col].dtypes == 'object']\n",
    "non_categorical_columns = [col for col in x.columns if col not in categorical_columns]"
   ]
  },
  {
   "cell_type": "code",
   "execution_count": 56,
   "metadata": {},
   "outputs": [],
   "source": [
    "#Código para el encoder.\n",
    "categorical_columns = [col for col in x.columns if x[col].dtypes == 'object']\n",
    "encoder_categories = []\n",
    "for col in categorical_columns:    \n",
    "    col_categories = x[col].unique()\n",
    "    encoder_categories.append(col_categories)"
   ]
  },
  {
   "cell_type": "code",
   "execution_count": 57,
   "metadata": {},
   "outputs": [],
   "source": [
    "#Pipe para las categóricas.\n",
    "cs_categorical = ColumnSelector(categorical_columns)\n",
    "cs_categorical.transform(data).head(3)\n",
    "categorical_pipe = make_pipeline(ColumnSelector(categorical_columns), OneHotEncoder(categories = encoder_categories, sparse=False))"
   ]
  },
  {
   "cell_type": "code",
   "execution_count": 58,
   "metadata": {},
   "outputs": [],
   "source": [
    "#Pipe para las numéricas.\n",
    "cs_non_categorical = ColumnSelector(non_categorical_columns)\n",
    "cs_non_categorical.transform(data).head(3)\n",
    "non_categorical_pipe = make_pipeline(ColumnSelector(non_categorical_columns), StandardScaler())"
   ]
  },
  {
   "cell_type": "code",
   "execution_count": 59,
   "metadata": {},
   "outputs": [],
   "source": [
    "#Unión de los pipes.\n",
    "union = make_union(categorical_pipe, non_categorical_pipe)"
   ]
  },
  {
   "cell_type": "code",
   "execution_count": 60,
   "metadata": {},
   "outputs": [],
   "source": [
    "#División del dataset.\n",
    "X_train, X_test, y_train, y_test = train_test_split(x, y, stratify = y, random_state = 1)"
   ]
  },
  {
   "cell_type": "code",
   "execution_count": 61,
   "metadata": {},
   "outputs": [],
   "source": [
    "#Generación del pipeline.\n",
    "pipeline = Pipeline([('union', union), ('clf', DecisionTreeClassifier(random_state = 42, criterion = \"gini\"))])"
   ]
  },
  {
   "cell_type": "code",
   "execution_count": 62,
   "metadata": {},
   "outputs": [
    {
     "data": {
      "text/plain": [
       "Pipeline(steps=[('union',\n",
       "                 FeatureUnion(transformer_list=[('pipeline-1',\n",
       "                                                 Pipeline(steps=[('columnselector',\n",
       "                                                                  ColumnSelector(columns=['first_time_signature',\n",
       "                                                                                          'tonalidad',\n",
       "                                                                                          'tonalidad_escala'])),\n",
       "                                                                 ('onehotencoder',\n",
       "                                                                  OneHotEncoder(categories=[array(['3/4', '6/8', '4/4', '3/2', '9/8', '2/4', '12/8', '2/2', '6/4',\n",
       "       '2/8', '1/4', '1/8', '3/8', '8/4', '9/16', '4/2', '1/2', '12/16',\n",
       "       '1/...\n",
       "                                                                                          'cant_eventos_por_pedal',\n",
       "                                                                                          'cant_pedales_seg',\n",
       "                                                                                          'duracion_seg',\n",
       "                                                                                          'tracks_used',\n",
       "                                                                                          'avg_simult_Piano',\n",
       "                                                                                          'inst_Piano',\n",
       "                                                                                          'describe_note_num_mean',\n",
       "                                                                                          'describe_note_num_std',\n",
       "                                                                                          'describe_note_num_min',\n",
       "                                                                                          'describe_note_num_25%',\n",
       "                                                                                          'describe_note_num_50%',\n",
       "                                                                                          'describe_note_num_75%',\n",
       "                                                                                          'describe_note_num_max', ...])),\n",
       "                                                                 ('standardscaler',\n",
       "                                                                  StandardScaler())]))])),\n",
       "                ('clf', DecisionTreeClassifier(random_state=42))])"
      ]
     },
     "execution_count": 62,
     "metadata": {},
     "output_type": "execute_result"
    }
   ],
   "source": [
    "#Fiteo del pipeline.\n",
    "pipeline.fit(X_train, y_train)"
   ]
  },
  {
   "cell_type": "code",
   "execution_count": 63,
   "metadata": {},
   "outputs": [],
   "source": [
    "#Parámetros para el cross-validation.\n",
    "folds = StratifiedKFold(n_splits = 3, shuffle = True, random_state = 42)\n",
    "\n",
    "param_grid = { \"clf__criterion\" : [\"gini\", \"entropy\"],\n",
    "                \"clf__min_samples_leaf\": [5,10,15,20,None], \n",
    "                \"clf__max_depth\" : [1,2,3,4,5,6,8,9,10,11,12,13,14,None],\n",
    "                \"clf__min_samples_split\": [2, 3, 4,None]}"
   ]
  },
  {
   "cell_type": "code",
   "execution_count": 64,
   "metadata": {},
   "outputs": [],
   "source": [
    "#Se genera el gridsearch.\n",
    "grid_search = GridSearchCV(pipeline, param_grid, cv = folds, n_jobs = -1)"
   ]
  },
  {
   "cell_type": "code",
   "execution_count": 79,
   "metadata": {},
   "outputs": [
    {
     "data": {
      "text/plain": [
       "GridSearchCV(cv=StratifiedKFold(n_splits=3, random_state=42, shuffle=True),\n",
       "             estimator=Pipeline(steps=[('union',\n",
       "                                        FeatureUnion(transformer_list=[('pipeline-1',\n",
       "                                                                        Pipeline(steps=[('columnselector',\n",
       "                                                                                         ColumnSelector(columns=['first_time_signature',\n",
       "                                                                                                                 'tonalidad',\n",
       "                                                                                                                 'tonalidad_escala'])),\n",
       "                                                                                        ('onehotencoder',\n",
       "                                                                                         OneHotEncoder(categories=[array(['3/4', '6/8', '4/4', '3/2', '9/8', '2...\n",
       "                                                                                                                 'describe_note_num_50%',\n",
       "                                                                                                                 'describe_note_num_75%',\n",
       "                                                                                                                 'describe_note_num_max', ...])),\n",
       "                                                                                        ('standardscaler',\n",
       "                                                                                         StandardScaler())]))])),\n",
       "                                       ('clf',\n",
       "                                        DecisionTreeClassifier(random_state=42))]),\n",
       "             n_jobs=-1,\n",
       "             param_grid={'clf__criterion': ['gini', 'entropy'],\n",
       "                         'clf__max_depth': [1, 2, 3, 4, 5, 6, 8, 9, 10, 11, 12,\n",
       "                                            13, 14, None],\n",
       "                         'clf__min_samples_leaf': [5, 10, 15, 20, None],\n",
       "                         'clf__min_samples_split': [2, 3, 4, None]})"
      ]
     },
     "execution_count": 79,
     "metadata": {},
     "output_type": "execute_result"
    }
   ],
   "source": [
    "#Se fitea el gridsearch.\n",
    "grid_search.fit(X_train, y_train)"
   ]
  },
  {
   "cell_type": "code",
   "execution_count": 80,
   "metadata": {},
   "outputs": [
    {
     "data": {
      "text/plain": [
       "0.859271523178808"
      ]
     },
     "execution_count": 80,
     "metadata": {},
     "output_type": "execute_result"
    }
   ],
   "source": [
    "#Mejor score del gridsearch.\n",
    "grid_search.best_score_"
   ]
  },
  {
   "cell_type": "code",
   "execution_count": 81,
   "metadata": {},
   "outputs": [
    {
     "data": {
      "text/plain": [
       "{'clf__criterion': 'entropy',\n",
       " 'clf__max_depth': 8,\n",
       " 'clf__min_samples_leaf': 15,\n",
       " 'clf__min_samples_split': 2}"
      ]
     },
     "execution_count": 81,
     "metadata": {},
     "output_type": "execute_result"
    }
   ],
   "source": [
    "#Mejores parámetros del gridsearch.\n",
    "grid_search.best_params_"
   ]
  },
  {
   "cell_type": "code",
   "execution_count": 82,
   "metadata": {},
   "outputs": [
    {
     "data": {
      "text/plain": [
       "Pipeline(steps=[('union',\n",
       "                 FeatureUnion(transformer_list=[('pipeline-1',\n",
       "                                                 Pipeline(steps=[('columnselector',\n",
       "                                                                  ColumnSelector(columns=['first_time_signature',\n",
       "                                                                                          'tonalidad',\n",
       "                                                                                          'tonalidad_escala'])),\n",
       "                                                                 ('onehotencoder',\n",
       "                                                                  OneHotEncoder(categories=[array(['3/4', '6/8', '4/4', '3/2', '9/8', '2/4', '12/8', '2/2', '6/4',\n",
       "       '2/8', '1/4', '1/8', '3/8', '8/4', '9/16', '4/2', '1/2', '12/16',\n",
       "       '1/...\n",
       "                                                                                          'avg_simult_Piano',\n",
       "                                                                                          'inst_Piano',\n",
       "                                                                                          'describe_note_num_mean',\n",
       "                                                                                          'describe_note_num_std',\n",
       "                                                                                          'describe_note_num_min',\n",
       "                                                                                          'describe_note_num_25%',\n",
       "                                                                                          'describe_note_num_50%',\n",
       "                                                                                          'describe_note_num_75%',\n",
       "                                                                                          'describe_note_num_max', ...])),\n",
       "                                                                 ('standardscaler',\n",
       "                                                                  StandardScaler())]))])),\n",
       "                ('clf',\n",
       "                 DecisionTreeClassifier(criterion='entropy', max_depth=8,\n",
       "                                        min_samples_leaf=15,\n",
       "                                        random_state=42))])"
      ]
     },
     "execution_count": 82,
     "metadata": {},
     "output_type": "execute_result"
    }
   ],
   "source": [
    "#Mejor estimador dentro de los parámetros que se pasaron.\n",
    "grid_search.best_estimator_"
   ]
  },
  {
   "cell_type": "code",
   "execution_count": 83,
   "metadata": {},
   "outputs": [],
   "source": [
    "#Predicción del gridsearch en train.\n",
    "y_pred_train = grid_search.best_estimator_.predict(X_train)"
   ]
  },
  {
   "cell_type": "code",
   "execution_count": 84,
   "metadata": {},
   "outputs": [],
   "source": [
    "#Predicción del gridsearch en test.\n",
    "y_pred_test = grid_search.best_estimator_.predict(X_test)"
   ]
  },
  {
   "cell_type": "code",
   "execution_count": 85,
   "metadata": {},
   "outputs": [
    {
     "name": "stdout",
     "output_type": "stream",
     "text": [
      "              precision    recall  f1-score   support\n",
      "\n",
      " ClassicRock       0.88      0.94      0.91      1520\n",
      "   Classical       0.95      0.98      0.96      1083\n",
      "Dance_Techno       0.00      0.00      0.00        16\n",
      "       Forro       0.00      0.00      0.00         5\n",
      "       Hymns       1.00      0.98      0.99       242\n",
      "        Jazz       0.94      0.93      0.94       235\n",
      "     NEW-AGE       0.63      0.60      0.61       127\n",
      "        Punk       0.78      0.50      0.61        58\n",
      "      REGGAE       0.50      0.25      0.33        32\n",
      " Samba&Bossa       0.93      0.48      0.63        52\n",
      "       TANGO       0.91      0.73      0.81        59\n",
      "      latina       0.66      0.56      0.61       195\n",
      "\n",
      "    accuracy                           0.89      3624\n",
      "   macro avg       0.68      0.58      0.62      3624\n",
      "weighted avg       0.88      0.89      0.88      3624\n",
      "\n",
      "0.891832229580574\n",
      "              precision    recall  f1-score   support\n",
      "\n",
      " ClassicRock       0.84      0.89      0.87       507\n",
      "   Classical       0.94      0.97      0.95       361\n",
      "Dance_Techno       0.00      0.00      0.00         5\n",
      "       Forro       0.00      0.00      0.00         2\n",
      "       Hymns       0.99      0.94      0.96        80\n",
      "        Jazz       0.93      0.91      0.92        78\n",
      "     NEW-AGE       0.47      0.60      0.53        42\n",
      "        Punk       0.41      0.35      0.38        20\n",
      "      REGGAE       0.38      0.27      0.32        11\n",
      " Samba&Bossa       0.86      0.35      0.50        17\n",
      "       TANGO       0.86      0.60      0.71        20\n",
      "      latina       0.49      0.40      0.44        65\n",
      "\n",
      "    accuracy                           0.85      1208\n",
      "   macro avg       0.60      0.52      0.55      1208\n",
      "weighted avg       0.84      0.85      0.84      1208\n",
      "\n",
      "0.847682119205298\n"
     ]
    },
    {
     "name": "stderr",
     "output_type": "stream",
     "text": [
      "C:\\Users\\Juan\\Anaconda3\\lib\\site-packages\\sklearn\\metrics\\_classification.py:1221: UndefinedMetricWarning: Precision and F-score are ill-defined and being set to 0.0 in labels with no predicted samples. Use `zero_division` parameter to control this behavior.\n",
      "  _warn_prf(average, modifier, msg_start, len(result))\n"
     ]
    }
   ],
   "source": [
    "#Resultados del modelo.\n",
    "print(classification_report(y_train, y_pred_train))\n",
    "print(accuracy_score(y_train, y_pred_train))\n",
    "print(classification_report(y_test, y_pred_test))\n",
    "print(accuracy_score(y_test, y_pred_test))"
   ]
  },
  {
   "cell_type": "code",
   "execution_count": 86,
   "metadata": {},
   "outputs": [
    {
     "data": {
      "text/plain": [
       "array([[450,   9,   0,   0,   1,   3,  13,  10,   1,   1,   0,  19],\n",
       "       [  3, 349,   0,   0,   0,   0,   7,   0,   0,   0,   1,   1],\n",
       "       [  4,   0,   0,   0,   0,   0,   0,   0,   0,   0,   0,   1],\n",
       "       [  1,   0,   0,   0,   0,   0,   1,   0,   0,   0,   0,   0],\n",
       "       [  2,   2,   0,   0,  75,   0,   1,   0,   0,   0,   0,   0],\n",
       "       [  7,   0,   0,   0,   0,  71,   0,   0,   0,   0,   0,   0],\n",
       "       [ 10,   4,   0,   0,   0,   0,  25,   0,   1,   0,   0,   2],\n",
       "       [ 13,   0,   0,   0,   0,   0,   0,   7,   0,   0,   0,   0],\n",
       "       [  4,   0,   0,   0,   0,   0,   3,   0,   3,   0,   0,   1],\n",
       "       [  6,   1,   0,   0,   0,   0,   1,   0,   0,   6,   1,   2],\n",
       "       [  2,   5,   0,   0,   0,   0,   0,   0,   0,   0,  12,   1],\n",
       "       [ 31,   1,   0,   0,   0,   2,   2,   0,   3,   0,   0,  26]],\n",
       "      dtype=int64)"
      ]
     },
     "execution_count": 86,
     "metadata": {},
     "output_type": "execute_result"
    }
   ],
   "source": [
    "#Matriz de confusión.\n",
    "confusion_matrix(y_test, y_pred_test)"
   ]
  },
  {
   "cell_type": "code",
   "execution_count": 87,
   "metadata": {},
   "outputs": [],
   "source": [
    "#Feature Engineering - columnas categóricas.\n",
    "categorical_columns = [col for col in x.columns if x[col].dtypes == 'object']\n",
    "encoder_categories = []\n",
    "for col in categorical_columns:    \n",
    "    col_categories = x[col].unique()\n",
    "    encoder_categories.append(col_categories)\n",
    "#encoder_categories"
   ]
  },
  {
   "cell_type": "code",
   "execution_count": 66,
   "metadata": {},
   "outputs": [],
   "source": [
    "#Encoder.\n",
    "encoder = OneHotEncoder(categories = encoder_categories, sparse=False)\n",
    "encoder = encoder.fit(X_train[categorical_columns])\n",
    "X_train_encoded = encoder.transform(X_train[categorical_columns])\n",
    "X_train_categorical = pd.DataFrame(X_train_encoded, columns = encoder.get_feature_names(categorical_columns))\n",
    "X_test_encoded = encoder.transform(X_test[categorical_columns])\n",
    "X_test_categorical = pd.DataFrame(X_test_encoded, columns = encoder.get_feature_names(categorical_columns))\n",
    "#X_train_categorical.head(3)\n",
    "#X_test_categorical.head(3)"
   ]
  },
  {
   "cell_type": "code",
   "execution_count": 67,
   "metadata": {},
   "outputs": [],
   "source": [
    "#Feature Engineering - columnas numéricas.\n",
    "non_categorical_columns = [col for col in X_train.columns if col not in categorical_columns]\n",
    "#non_categorical_columns"
   ]
  },
  {
   "cell_type": "code",
   "execution_count": 68,
   "metadata": {},
   "outputs": [],
   "source": [
    "#Estandarización X_train.\n",
    "std_sclr = StandardScaler()\n",
    "std_sclr_trained = std_sclr.fit(X_train[non_categorical_columns])\n",
    "X_train_numerical = std_sclr_trained.transform(X_train[non_categorical_columns])\n",
    "X_train_numerical_scaled = pd.DataFrame(X_train_numerical, columns = non_categorical_columns)\n",
    "#X_train_numerical_scaled.head()"
   ]
  },
  {
   "cell_type": "code",
   "execution_count": 69,
   "metadata": {},
   "outputs": [],
   "source": [
    "#Estandarización X_test.\n",
    "X_test_numerical = std_sclr_trained.transform(X_test[non_categorical_columns])\n",
    "X_test_numerical_scaled = pd.DataFrame(X_test_numerical, columns = non_categorical_columns)\n",
    "#X_test_numerical_scaled.head()"
   ]
  },
  {
   "cell_type": "code",
   "execution_count": 70,
   "metadata": {},
   "outputs": [],
   "source": [
    "#Concatenación de dataframes de entrenamiento.\n",
    "X_train_transf = pd.concat([X_train_categorical, X_train_numerical_scaled], axis = 1)\n",
    "#print(X_train_categorical.shape)\n",
    "#print(X_train_numerical_scaled.shape)\n",
    "#print(X_train_transf.shape)"
   ]
  },
  {
   "cell_type": "code",
   "execution_count": 71,
   "metadata": {},
   "outputs": [],
   "source": [
    "#Concatenación de dataframes de testeo.\n",
    "X_test_transf = pd.concat([X_test_categorical, X_test_numerical_scaled], axis = 1)\n",
    "#print(X_test_categorical.shape)\n",
    "#print(X_test_numerical_scaled.shape)\n",
    "#print(X_test_transf.shape)"
   ]
  },
  {
   "cell_type": "code",
   "execution_count": 88,
   "metadata": {},
   "outputs": [],
   "source": [
    "#Se instancia el modelo.\n",
    "model = DecisionTreeClassifier(random_state = 42, criterion = \"entropy\", max_depth = 8, min_samples_leaf = 15, min_samples_split = 2)"
   ]
  },
  {
   "cell_type": "code",
   "execution_count": 89,
   "metadata": {},
   "outputs": [
    {
     "data": {
      "text/plain": [
       "DecisionTreeClassifier(criterion='entropy', max_depth=8, min_samples_leaf=15,\n",
       "                       random_state=42)"
      ]
     },
     "execution_count": 89,
     "metadata": {},
     "output_type": "execute_result"
    }
   ],
   "source": [
    "#Se fitea el modelo.\n",
    "model.fit(X_train_transf, y_train)"
   ]
  },
  {
   "cell_type": "code",
   "execution_count": 90,
   "metadata": {},
   "outputs": [],
   "source": [
    "#Predicciones en train y test.\n",
    "y_pred_train_transf = model.predict(X_train_transf)\n",
    "y_pred_test_transf = model.predict(X_test_transf)"
   ]
  },
  {
   "cell_type": "code",
   "execution_count": 91,
   "metadata": {},
   "outputs": [
    {
     "name": "stdout",
     "output_type": "stream",
     "text": [
      "              precision    recall  f1-score   support\n",
      "\n",
      " ClassicRock       0.88      0.94      0.91      1520\n",
      "   Classical       0.95      0.98      0.96      1083\n",
      "Dance_Techno       0.00      0.00      0.00        16\n",
      "       Forro       0.00      0.00      0.00         5\n",
      "       Hymns       1.00      0.98      0.99       242\n",
      "        Jazz       0.94      0.93      0.94       235\n",
      "     NEW-AGE       0.63      0.60      0.61       127\n",
      "        Punk       0.78      0.50      0.61        58\n",
      "      REGGAE       0.50      0.25      0.33        32\n",
      " Samba&Bossa       0.93      0.48      0.63        52\n",
      "       TANGO       0.91      0.73      0.81        59\n",
      "      latina       0.66      0.56      0.61       195\n",
      "\n",
      "    accuracy                           0.89      3624\n",
      "   macro avg       0.68      0.58      0.62      3624\n",
      "weighted avg       0.88      0.89      0.88      3624\n",
      "\n",
      "0.891832229580574\n",
      "              precision    recall  f1-score   support\n",
      "\n",
      " ClassicRock       0.84      0.89      0.87       507\n",
      "   Classical       0.94      0.97      0.95       361\n",
      "Dance_Techno       0.00      0.00      0.00         5\n",
      "       Forro       0.00      0.00      0.00         2\n",
      "       Hymns       0.99      0.94      0.96        80\n",
      "        Jazz       0.93      0.91      0.92        78\n",
      "     NEW-AGE       0.47      0.60      0.53        42\n",
      "        Punk       0.41      0.35      0.38        20\n",
      "      REGGAE       0.38      0.27      0.32        11\n",
      " Samba&Bossa       0.86      0.35      0.50        17\n",
      "       TANGO       0.86      0.60      0.71        20\n",
      "      latina       0.49      0.40      0.44        65\n",
      "\n",
      "    accuracy                           0.85      1208\n",
      "   macro avg       0.60      0.52      0.55      1208\n",
      "weighted avg       0.84      0.85      0.84      1208\n",
      "\n",
      "0.847682119205298\n"
     ]
    },
    {
     "name": "stderr",
     "output_type": "stream",
     "text": [
      "C:\\Users\\Juan\\Anaconda3\\lib\\site-packages\\sklearn\\metrics\\_classification.py:1221: UndefinedMetricWarning: Precision and F-score are ill-defined and being set to 0.0 in labels with no predicted samples. Use `zero_division` parameter to control this behavior.\n",
      "  _warn_prf(average, modifier, msg_start, len(result))\n"
     ]
    }
   ],
   "source": [
    "#Resultados del modelo.\n",
    "print(classification_report(y_train, y_pred_train_transf))\n",
    "print(accuracy_score(y_train, y_pred_train_transf))\n",
    "print(classification_report(y_test, y_pred_test_transf))\n",
    "print(accuracy_score(y_test, y_pred_test_transf))"
   ]
  },
  {
   "cell_type": "code",
   "execution_count": 92,
   "metadata": {},
   "outputs": [
    {
     "data": {
      "text/plain": [
       "array([[450,   9,   0,   0,   1,   3,  13,  10,   1,   1,   0,  19],\n",
       "       [  3, 349,   0,   0,   0,   0,   7,   0,   0,   0,   1,   1],\n",
       "       [  4,   0,   0,   0,   0,   0,   0,   0,   0,   0,   0,   1],\n",
       "       [  1,   0,   0,   0,   0,   0,   1,   0,   0,   0,   0,   0],\n",
       "       [  2,   2,   0,   0,  75,   0,   1,   0,   0,   0,   0,   0],\n",
       "       [  7,   0,   0,   0,   0,  71,   0,   0,   0,   0,   0,   0],\n",
       "       [ 10,   4,   0,   0,   0,   0,  25,   0,   1,   0,   0,   2],\n",
       "       [ 13,   0,   0,   0,   0,   0,   0,   7,   0,   0,   0,   0],\n",
       "       [  4,   0,   0,   0,   0,   0,   3,   0,   3,   0,   0,   1],\n",
       "       [  6,   1,   0,   0,   0,   0,   1,   0,   0,   6,   1,   2],\n",
       "       [  2,   5,   0,   0,   0,   0,   0,   0,   0,   0,  12,   1],\n",
       "       [ 31,   1,   0,   0,   0,   2,   2,   0,   3,   0,   0,  26]],\n",
       "      dtype=int64)"
      ]
     },
     "execution_count": 92,
     "metadata": {},
     "output_type": "execute_result"
    }
   ],
   "source": [
    "#Matriz de confusión.\n",
    "confusion_matrix(y_test, y_pred_test_transf)"
   ]
  },
  {
   "cell_type": "code",
   "execution_count": 96,
   "metadata": {},
   "outputs": [
    {
     "data": {
      "text/html": [
       "<div>\n",
       "<style scoped>\n",
       "    .dataframe tbody tr th:only-of-type {\n",
       "        vertical-align: middle;\n",
       "    }\n",
       "\n",
       "    .dataframe tbody tr th {\n",
       "        vertical-align: top;\n",
       "    }\n",
       "\n",
       "    .dataframe thead th {\n",
       "        text-align: right;\n",
       "    }\n",
       "</style>\n",
       "<table border=\"1\" class=\"dataframe\">\n",
       "  <thead>\n",
       "    <tr style=\"text-align: right;\">\n",
       "      <th></th>\n",
       "      <th>atributo</th>\n",
       "      <th>importancia</th>\n",
       "    </tr>\n",
       "  </thead>\n",
       "  <tbody>\n",
       "    <tr>\n",
       "      <th>382</th>\n",
       "      <td>inst_Drum</td>\n",
       "      <td>0.407011</td>\n",
       "    </tr>\n",
       "    <tr>\n",
       "      <th>336</th>\n",
       "      <td>inst_Electric Piano</td>\n",
       "      <td>0.130613</td>\n",
       "    </tr>\n",
       "    <tr>\n",
       "      <th>245</th>\n",
       "      <td>('Acoustic Bass', 0.0)</td>\n",
       "      <td>0.073501</td>\n",
       "    </tr>\n",
       "    <tr>\n",
       "      <th>233</th>\n",
       "      <td>length_note_1.125</td>\n",
       "      <td>0.047181</td>\n",
       "    </tr>\n",
       "    <tr>\n",
       "      <th>522</th>\n",
       "      <td>('ride', 0.938)</td>\n",
       "      <td>0.031301</td>\n",
       "    </tr>\n",
       "    <tr>\n",
       "      <th>...</th>\n",
       "      <td>...</td>\n",
       "      <td>...</td>\n",
       "    </tr>\n",
       "    <tr>\n",
       "      <th>212</th>\n",
       "      <td>chord_2_4_7m</td>\n",
       "      <td>0.000000</td>\n",
       "    </tr>\n",
       "    <tr>\n",
       "      <th>211</th>\n",
       "      <td>('Effects', 0.0)</td>\n",
       "      <td>0.000000</td>\n",
       "    </tr>\n",
       "    <tr>\n",
       "      <th>210</th>\n",
       "      <td>inst_Effects</td>\n",
       "      <td>0.000000</td>\n",
       "    </tr>\n",
       "    <tr>\n",
       "      <th>209</th>\n",
       "      <td>avg_simult_Synth Effects</td>\n",
       "      <td>0.000000</td>\n",
       "    </tr>\n",
       "    <tr>\n",
       "      <th>301</th>\n",
       "      <td>('Piano', 0.417)</td>\n",
       "      <td>0.000000</td>\n",
       "    </tr>\n",
       "  </tbody>\n",
       "</table>\n",
       "<p>602 rows × 2 columns</p>\n",
       "</div>"
      ],
      "text/plain": [
       "                     atributo  importancia\n",
       "382                 inst_Drum     0.407011\n",
       "336       inst_Electric Piano     0.130613\n",
       "245    ('Acoustic Bass', 0.0)     0.073501\n",
       "233         length_note_1.125     0.047181\n",
       "522           ('ride', 0.938)     0.031301\n",
       "..                        ...          ...\n",
       "212              chord_2_4_7m     0.000000\n",
       "211          ('Effects', 0.0)     0.000000\n",
       "210              inst_Effects     0.000000\n",
       "209  avg_simult_Synth Effects     0.000000\n",
       "301          ('Piano', 0.417)     0.000000\n",
       "\n",
       "[602 rows x 2 columns]"
      ]
     },
     "execution_count": 96,
     "metadata": {},
     "output_type": "execute_result"
    }
   ],
   "source": [
    "#Análisis de las features. \n",
    "feature_importance = pd.DataFrame({'atributo':X_train_transf.columns, 'importancia':model.feature_importances_}).sort_values('importancia', ascending = False)\n",
    "feature_importance"
   ]
  },
  {
   "cell_type": "code",
   "execution_count": null,
   "metadata": {},
   "outputs": [],
   "source": []
  }
 ],
 "metadata": {
  "kernelspec": {
   "display_name": "Python 3",
   "language": "python",
   "name": "python3"
  },
  "language_info": {
   "codemirror_mode": {
    "name": "ipython",
    "version": 3
   },
   "file_extension": ".py",
   "mimetype": "text/x-python",
   "name": "python",
   "nbconvert_exporter": "python",
   "pygments_lexer": "ipython3",
   "version": "3.7.7"
  }
 },
 "nbformat": 4,
 "nbformat_minor": 4
}
