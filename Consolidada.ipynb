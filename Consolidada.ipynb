{
 "cells": [
  {
   "cell_type": "code",
   "execution_count": 73,
   "metadata": {},
   "outputs": [],
   "source": [
    "#Se importan las clases.\n",
    "import pandas as pd\n",
    "import numpy as np\n",
    "import seaborn as sns\n",
    "import matplotlib.pyplot as plt\n",
    "from sklearn.model_selection import train_test_split, KFold, cross_val_score, GridSearchCV, StratifiedKFold\n",
    "from sklearn.neighbors import KNeighborsClassifier\n",
    "from sklearn.linear_model import LogisticRegression\n",
    "from sklearn.naive_bayes import GaussianNB\n",
    "from sklearn.tree import DecisionTreeClassifier\n",
    "from sklearn.ensemble import RandomForestClassifier, ExtraTreesClassifier, BaggingClassifier, AdaBoostClassifier, GradientBoostingClassifier\n",
    "from catboost import CatBoostClassifier\n",
    "import lightgbm as lgb\n",
    "from sklearn.metrics import accuracy_score, confusion_matrix, classification_report\n",
    "from sklearn.preprocessing import StandardScaler, OneHotEncoder, LabelEncoder\n",
    "from sklearn.feature_selection import RFECV, SelectKBest, f_classif\n",
    "from sklearn.pipeline import Pipeline, make_pipeline, make_union\n",
    "from sklearn.base import BaseEstimator, TransformerMixin\n",
    "from imblearn.under_sampling import RandomUnderSampler\n",
    "from imblearn.over_sampling import RandomOverSampler"
   ]
  },
  {
   "cell_type": "code",
   "execution_count": null,
   "metadata": {},
   "outputs": [],
   "source": [
    "#Directorio.\n",
    "directorio = r\"C:\\Users\\Juan\\Documents\\Digital House\\Git Digital House\\DHDS_IV\\midi_stats_v3_drop_cols_.csv\""
   ]
  },
  {
   "cell_type": "markdown",
   "metadata": {},
   "source": [
    "Análisis exploratorio - Pre-procesamiento"
   ]
  },
  {
   "cell_type": "code",
   "execution_count": null,
   "metadata": {},
   "outputs": [],
   "source": [
    "#Se levanta el dataset.\n",
    "data = pd.read_csv(directorio)"
   ]
  },
  {
   "cell_type": "code",
   "execution_count": null,
   "metadata": {},
   "outputs": [],
   "source": [
    "#Se eliminan los valores nulos.\n",
    "data = data.fillna(value = 0)"
   ]
  },
  {
   "cell_type": "code",
   "execution_count": null,
   "metadata": {},
   "outputs": [],
   "source": [
    "#Se elimina registro que tiende a infinito.\n",
    "data.drop(data[data.cant_pedales_seg > 9999999].index, inplace = True)"
   ]
  },
  {
   "cell_type": "code",
   "execution_count": null,
   "metadata": {},
   "outputs": [],
   "source": [
    "#Redondeo de floats.\n",
    "for col in data.loc[:, data.dtypes == np.float64].columns:\n",
    "    data[col] = data[col].apply(lambda x: round(x, 4))"
   ]
  },
  {
   "cell_type": "code",
   "execution_count": null,
   "metadata": {},
   "outputs": [],
   "source": [
    "#Visualización de columnas.\n",
    "pd.options.display.max_columns = 20\n",
    "#data.head(3)"
   ]
  },
  {
   "cell_type": "code",
   "execution_count": null,
   "metadata": {},
   "outputs": [],
   "source": [
    "#data.Genero.value_counts()/data.shape[0]"
   ]
  },
  {
   "cell_type": "code",
   "execution_count": null,
   "metadata": {},
   "outputs": [],
   "source": [
    "#Matrices de features y target.\n",
    "x = data.drop(columns = [\"Genero\", \"tema\", \"Grupo\", \"info_tracks\", \"Unnamed: 0\"], axis = 1)\n",
    "y = data[\"Genero\"]"
   ]
  },
  {
   "cell_type": "code",
   "execution_count": null,
   "metadata": {},
   "outputs": [],
   "source": [
    "#Columnas categóricas / numéricas.\n",
    "categorical_columns = [col for col in x.columns if x[col].dtypes == 'object']\n",
    "non_categorical_columns = [col for col in x.columns if col not in categorical_columns]"
   ]
  },
  {
   "cell_type": "code",
   "execution_count": null,
   "metadata": {},
   "outputs": [],
   "source": [
    "#Código para el encoder.\n",
    "categorical_columns = [col for col in x.columns if x[col].dtypes == 'object']\n",
    "encoder_categories = []\n",
    "for col in categorical_columns:    \n",
    "    col_categories = x[col].unique()\n",
    "    encoder_categories.append(col_categories)"
   ]
  },
  {
   "cell_type": "code",
   "execution_count": null,
   "metadata": {},
   "outputs": [],
   "source": [
    "#División del dataset.\n",
    "X_train, X_test, y_train, y_test = train_test_split(x, y, stratify = y, random_state = 1)"
   ]
  },
  {
   "cell_type": "code",
   "execution_count": null,
   "metadata": {},
   "outputs": [],
   "source": [
    "#Feature Engineering - columnas categóricas.\n",
    "categorical_columns = [col for col in x.columns if x[col].dtypes == 'object']\n",
    "encoder_categories = []\n",
    "for col in categorical_columns:    \n",
    "    col_categories = x[col].unique()\n",
    "    encoder_categories.append(col_categories)\n",
    "#encoder_categories"
   ]
  },
  {
   "cell_type": "code",
   "execution_count": null,
   "metadata": {},
   "outputs": [],
   "source": [
    "#Encoder.\n",
    "encoder = OneHotEncoder(categories = encoder_categories, sparse=False)\n",
    "encoder = encoder.fit(X_train[categorical_columns])\n",
    "X_train_encoded = encoder.transform(X_train[categorical_columns])\n",
    "X_train_categorical = pd.DataFrame(X_train_encoded, columns = encoder.get_feature_names(categorical_columns))\n",
    "X_test_encoded = encoder.transform(X_test[categorical_columns])\n",
    "X_test_categorical = pd.DataFrame(X_test_encoded, columns = encoder.get_feature_names(categorical_columns))\n",
    "#X_train_categorical.head(3)\n",
    "#X_test_categorical.head(3)"
   ]
  },
  {
   "cell_type": "code",
   "execution_count": null,
   "metadata": {},
   "outputs": [],
   "source": [
    "#Feature Engineering - columnas numéricas.\n",
    "non_categorical_columns = [col for col in X_train.columns if col not in categorical_columns]\n",
    "#non_categorical_columns"
   ]
  },
  {
   "cell_type": "code",
   "execution_count": null,
   "metadata": {},
   "outputs": [],
   "source": [
    "#Estandarización X_train.\n",
    "std_sclr = StandardScaler()\n",
    "std_sclr_trained = std_sclr.fit(X_train[non_categorical_columns])\n",
    "X_train_numerical = std_sclr_trained.transform(X_train[non_categorical_columns])\n",
    "X_train_numerical_scaled = pd.DataFrame(X_train_numerical, columns = non_categorical_columns)\n",
    "#X_train_numerical_scaled.head()"
   ]
  },
  {
   "cell_type": "code",
   "execution_count": null,
   "metadata": {},
   "outputs": [],
   "source": [
    "#Estandarización X_test.\n",
    "X_test_numerical = std_sclr_trained.transform(X_test[non_categorical_columns])\n",
    "X_test_numerical_scaled = pd.DataFrame(X_test_numerical, columns = non_categorical_columns)\n",
    "#X_test_numerical_scaled.head()"
   ]
  },
  {
   "cell_type": "code",
   "execution_count": null,
   "metadata": {},
   "outputs": [],
   "source": [
    "#Concatenación de dataframes de entrenamiento.\n",
    "X_train_transf = pd.concat([X_train_categorical, X_train_numerical_scaled], axis = 1)\n",
    "#print(X_train_categorical.shape)\n",
    "#print(X_train_numerical_scaled.shape)\n",
    "#print(X_train_transf.shape)"
   ]
  },
  {
   "cell_type": "code",
   "execution_count": null,
   "metadata": {},
   "outputs": [],
   "source": [
    "#Concatenación de dataframes de testeo.\n",
    "X_test_transf = pd.concat([X_test_categorical, X_test_numerical_scaled], axis = 1)\n",
    "#print(X_test_categorical.shape)\n",
    "#print(X_test_numerical_scaled.shape)\n",
    "#print(X_test_transf.shape)"
   ]
  },
  {
   "cell_type": "markdown",
   "metadata": {},
   "source": [
    "Funciones de modelos"
   ]
  },
  {
   "cell_type": "code",
   "execution_count": 67,
   "metadata": {},
   "outputs": [],
   "source": [
    "#Función para modelo sin GridsearchCV.\n",
    "def model_no_GCV(model_instance, X_train, y_train, X_test, y_test):\n",
    "    model_instance.fit(X_train, y_train)\n",
    "    y_pred_train = model_instance.predict(X_train)\n",
    "    y_pred_test = model_instance.predict(X_test)\n",
    "    score_train = pd.DataFrame(classification_report(y_train, y_pred_train, output_dict = True)).transpose()\n",
    "    score_test = pd.DataFrame(classification_report(y_test, y_pred_test, output_dict = True)).transpose()\n",
    "    cm = confusion_matrix(y_test, y_pred_test)\n",
    "    labels_gender = ['Classic Rock', 'Classical', 'Dance Techno', 'Forro', 'Hymns', 'Jazz', 'New-Age', 'Punk', 'Reggae', 'Samba & Bossa', 'Tango', 'Latina']\n",
    "    ax = sns.heatmap(cm, annot = True, cmap = \"Reds\", fmt = \"d\", xticklabels = labels_gender, yticklabels = labels_gender)\n",
    "    ax.set(xlabel = 'Predicho', ylabel = 'Reales')\n",
    "    result = {'score_train' : [print('score_train'), score_train], \n",
    "              'score_test' : [print('score_test'), score_test], \n",
    "              'confusion_matrix' : [print('confusion_matrix'), ax]}\n",
    "    return result"
   ]
  },
  {
   "cell_type": "code",
   "execution_count": 68,
   "metadata": {},
   "outputs": [],
   "source": [
    "#Función para modelo con GridsearchCV.\n",
    "def model_GCV(model_instance, X_train, y_train, X_test, y_test, gridsearch_params):\n",
    "    folds = StratifiedKFold(n_splits = 3, shuffle = True, random_state = 42)\n",
    "    gridsearch = GridSearchCV(model_instance, gridsearch_params, n_jobs = -1, cv = folds)    \n",
    "    gridsearch.fit(X_train, y_train) \n",
    "    best_score = gridsearch.best_score_\n",
    "    best_params = gridsearch.best_params_\n",
    "    best_estimator = gridsearch.best_estimator_\n",
    "    y_pred_train_grid = gridsearch.best_estimator_.predict(X_train)\n",
    "    y_pred_test_grid = gridsearch.best_estimator_.predict(X_test)\n",
    "    score_train_grid = pd.DataFrame(classification_report(y_train, y_pred_train_grid, output_dict = True)).transpose()\n",
    "    score_test_grid = pd.DataFrame(classification_report(y_test, y_pred_test_grid, output_dict = True)).transpose()\n",
    "    cm_grid = confusion_matrix(y_test, y_pred_test_grid)\n",
    "    labels_gender = ['Classic Rock', 'Classical', 'Dance Techno', 'Forro', 'Hymns', 'Jazz', 'New-Age', 'Punk', 'Reggae', 'Samba & Bossa', 'Tango', 'Latina']\n",
    "    ax_grid = sns.heatmap(cm_grid, annot = True, cmap = \"Reds\", fmt = \"d\", xticklabels = labels_gender, yticklabels = labels_gender)\n",
    "    ax_grid.set(xlabel = 'Predicho', ylabel = 'Reales')\n",
    "    result_grid = {'score_train_grid' : [print('score_train_grid'), score_train_grid], \n",
    "              'score_test_grid' : [print('score_test_grid'), score_test_grid], \n",
    "              'confusion_matrix_grid' : [print('confusion_matrix_grid'), ax_grid],\n",
    "              'best_estimator' : best_estimator}\n",
    "    return result_grid"
   ]
  },
  {
   "cell_type": "code",
   "execution_count": 69,
   "metadata": {},
   "outputs": [],
   "source": [
    "#Función para feature importance.\n",
    "def feature_importance_DataFrame(model_instance, X_train, y_train):\n",
    "    model_instance.fit(X_train, y_train)\n",
    "    feature_names = X_train.columns\n",
    "    feature_importance = model_instance.feature_importances_\n",
    "    importance = pd.DataFrame({'feature_names' : feature_names, 'feature_importance' : feature_importance})\n",
    "    importance.sort_values(by = 'feature_importance', axis = 0, ascending = False, inplace = True)\n",
    "    result_feature_importance_DataFrame = importance.head(20)\n",
    "    return result_feature_importance_DataFrame"
   ]
  },
  {
   "cell_type": "code",
   "execution_count": 70,
   "metadata": {},
   "outputs": [],
   "source": [
    "#Función para feature importance.\n",
    "def feature_importance_plot(model_instance, X_train, y_train):\n",
    "    model_instance.fit(X_train, y_train)\n",
    "    feature_names = X_train.columns\n",
    "    feature_importance = model_instance.feature_importances_\n",
    "    importance = pd.DataFrame({'feature_names' : feature_names, 'feature_importance' : feature_importance})\n",
    "    importance.sort_values(by = 'feature_importance', axis = 0, ascending = False, inplace = True)\n",
    "    plt.figure()\n",
    "    plt.title(\"Importancia de los features\")\n",
    "    x_values = range(importance.head(20).shape[0])\n",
    "    y_values = importance.head(20).feature_importance\n",
    "    plt.bar(x_values, y_values, color = \"r\")\n",
    "    plt.xticks(x_values, importance.head(20).feature_names, rotation = 90)\n",
    "    result_feature_importance_plot = plt.show()\n",
    "    return result_feature_importance_plot"
   ]
  },
  {
   "cell_type": "code",
   "execution_count": 71,
   "metadata": {},
   "outputs": [],
   "source": [
    "#Función undersampling.\n",
    "def model_no_GCV_undersampling(model_instance, X_train, y_train, X_test, y_test):\n",
    "    undersampler = RandomUnderSampler(sampling_strategy = 'majority')\n",
    "    X_train_us, y_train_us = undersampler.fit_resample(X_train, y_train)\n",
    "    model_instance.fit(X_train_us, y_train_us)\n",
    "    y_pred_train_us = model_instance.predict(X_train_us)\n",
    "    y_pred_test_us = model_instance.predict(X_test)\n",
    "    score_train_us = pd.DataFrame(classification_report(y_train_us, y_pred_train_us, output_dict = True)).transpose()\n",
    "    score_test_us = pd.DataFrame(classification_report(y_test, y_pred_test_us, output_dict = True)).transpose()\n",
    "    cm_us = confusion_matrix(y_test, y_pred_test_us)\n",
    "    labels_gender = ['Classic Rock', 'Classical', 'Dance Techno', 'Forro', 'Hymns', 'Jazz', 'New-Age', 'Punk', 'Reggae', 'Samba & Bossa', 'Tango', 'Latina']\n",
    "    ax_us = sns.heatmap(cm_us, annot = True, cmap = \"Reds\", fmt = \"d\", xticklabels = labels_gender, yticklabels = labels_gender)\n",
    "    ax_us.set(xlabel = 'Predicho', ylabel = 'Reales')\n",
    "    result_us = {'score_train_us' : [print('score_train_us'), score_train_us], \n",
    "              'score_test_us' : [print('score_test_us'), score_test_us], \n",
    "              'confusion_matrix_us' : [print('confusion_matrix_us'), ax_us]}\n",
    "    return result_us"
   ]
  },
  {
   "cell_type": "code",
   "execution_count": 72,
   "metadata": {},
   "outputs": [],
   "source": [
    "#Función oversampling.\n",
    "def model_no_GCV_oversampling(model_instance, X_train, y_train, X_test, y_test):\n",
    "    oversampler = RandomOverSampler(sampling_strategy = 'minority')\n",
    "    X_train_os, y_train_os = oversampler.fit_resample(X_train, y_train)\n",
    "    model_instance.fit(X_train_os, y_train_os)\n",
    "    y_pred_train_os = model_instance.predict(X_train_os)\n",
    "    y_pred_test_os = model_instance.predict(X_test)\n",
    "    score_train_os = pd.DataFrame(classification_report(y_train_os, y_pred_train_os, output_dict = True)).transpose()\n",
    "    score_test_os = pd.DataFrame(classification_report(y_test, y_pred_test_os, output_dict = True)).transpose()\n",
    "    cm_os = confusion_matrix(y_test, y_pred_test_os)\n",
    "    labels_gender = ['Classic Rock', 'Classical', 'Dance Techno', 'Forro', 'Hymns', 'Jazz', 'New-Age', 'Punk', 'Reggae', 'Samba & Bossa', 'Tango', 'Latina']\n",
    "    ax_os = sns.heatmap(cm_os, annot = True, cmap = \"Reds\", fmt = \"d\", xticklabels = labels_gender, yticklabels = labels_gender)\n",
    "    ax_os.set(xlabel = 'Predicho', ylabel = 'Reales')\n",
    "    result_os = {'score_train_os' : [print('score_train_os'), score_train_os], \n",
    "              'score_test_os' : [print('score_test_os'), score_test_os], \n",
    "              'confusion_matrix_os' : [print('confusion_matrix_os'), ax_os]}\n",
    "    return result_os"
   ]
  },
  {
   "cell_type": "code",
   "execution_count": 82,
   "metadata": {},
   "outputs": [],
   "source": [
    "#Función select k best.\n",
    "def select_kbest(X_train, y_train, f):\n",
    "    feat_selector = SelectKBest(f_classif, k = f)    \n",
    "    fitting = feat_selector.fit(X_train, y_train)\n",
    "    feat_scores = pd.DataFrame()\n",
    "    feat_scores[\"Score\"] = feat_selector.scores_\n",
    "    feat_scores[\"P Value\"] = feat_selector.pvalues_\n",
    "    feat_scores[\"Support\"] = feat_selector.get_support()\n",
    "    feat_scores[\"Attribute\"] = X_train.columns\n",
    "    result_feat_scores = feat_scores.sort_values(\"Score\", ascending = False).head(50)\n",
    "    return result_feat_scores"
   ]
  },
  {
   "cell_type": "code",
   "execution_count": 93,
   "metadata": {},
   "outputs": [],
   "source": [
    "#Función RFECV.\n",
    "def RFECV_features(model_instance, X_train, y_train, X_test, y_test):\n",
    "    skf = StratifiedKFold(n_splits = 3, shuffle = True, random_state = 42)\n",
    "    selector = RFECV(model_instance, step = 1, cv = skf, verbose = 0, n_jobs = -1)\n",
    "    selector.fit(X_train, y_train)\n",
    "    X_train_reduced = X_train.loc[:, selector.support_]\n",
    "    X_test_reduced = X_test.loc[:, selector.support_]\n",
    "    model_instance.fit(X_train, y_train)\n",
    "    y_pred_train_rfecv = model_instance.predict(X_train)\n",
    "    y_pred_test_rfecv = model_instance.predict(X_test)\n",
    "    score_train_rfecv = pd.DataFrame(classification_report(y_train, y_pred_train_rfecv, output_dict = True)).transpose()\n",
    "    score_test_rfecv = pd.DataFrame(classification_report(y_test, y_pred_test_rfecv, output_dict = True)).transpose()\n",
    "    cm_rfecv = confusion_matrix(y_test, y_pred_test_rfecv)\n",
    "    labels_gender = ['Classic Rock', 'Classical', 'Dance Techno', 'Forro', 'Hymns', 'Jazz', 'New-Age', 'Punk', 'Reggae', 'Samba & Bossa', 'Tango', 'Latina']\n",
    "    ax_rfecv = sns.heatmap(cm_rfecv, annot = True, cmap = \"Reds\", fmt = \"d\", xticklabels = labels_gender, yticklabels = labels_gender)\n",
    "    ax_rfecv.set(xlabel = 'Predicho', ylabel = 'Reales')\n",
    "    result_rfecv = {'score_train_rfecv' : [print('score_train_rfecv'), score_train_rfecv], \n",
    "              'score_test_rfecv' : [print('score_test_rfecv'), score_test_rfecv], \n",
    "              'confusion_matrix_rfecv' : [print('confusion_matrix_rfecv'), ax_rfecv]}\n",
    "    return result_rfecv"
   ]
  },
  {
   "cell_type": "markdown",
   "metadata": {},
   "source": [
    "KNN"
   ]
  },
  {
   "cell_type": "code",
   "execution_count": null,
   "metadata": {},
   "outputs": [],
   "source": [
    "#Modelo sin GridsearchCV.\n",
    "knn_no_GCV = model_no_GCV(KNeighborsClassifier(n_neighbors = 2), X_train_transf, y_train, X_test_transf, y_test)\n",
    "knn_no_GCV"
   ]
  },
  {
   "cell_type": "code",
   "execution_count": null,
   "metadata": {},
   "outputs": [],
   "source": [
    "#Modelo con GridsearchCV.\n",
    "knn_gridsearch_params = {'n_neighbors' : range(1, 5)}\n",
    "knn_GCV = model_GCV(KNeighborsClassifier(n_neighbors = 2), X_train_transf, y_train, X_test_transf, y_test, knn_gridsearch_params)\n",
    "knn_GCV"
   ]
  },
  {
   "cell_type": "markdown",
   "metadata": {},
   "source": [
    "Logistic Regression"
   ]
  },
  {
   "cell_type": "code",
   "execution_count": null,
   "metadata": {},
   "outputs": [],
   "source": [
    "#Modelo sin GridsearchCV.\n",
    "lr_no_GCV = model_no_GCV(LogisticRegression(), X_train_transf, y_train, X_test_transf, y_test)\n",
    "lr_no_GCV"
   ]
  },
  {
   "cell_type": "code",
   "execution_count": null,
   "metadata": {},
   "outputs": [],
   "source": [
    "#Modelo con GridsearchCV.\n",
    "lr_gridsearch_params = {'penalty' : ['l1', 'l2', None]}\n",
    "lr_GCV = model_GCV(LogisticRegression(), X_train_transf, y_train, X_test_transf, y_test, lr_gridsearch_params)\n",
    "lr_GCV"
   ]
  },
  {
   "cell_type": "markdown",
   "metadata": {},
   "source": [
    "Naive Bayes"
   ]
  },
  {
   "cell_type": "code",
   "execution_count": null,
   "metadata": {},
   "outputs": [],
   "source": [
    "#Modelo sin GridsearchCV.\n",
    "nb_no_GCV = model_no_GCV(GaussianNB(), X_train_transf, y_train, X_test_transf, y_test)\n",
    "nb_no_GCV"
   ]
  },
  {
   "cell_type": "markdown",
   "metadata": {},
   "source": [
    "Decision Tree - Classic"
   ]
  },
  {
   "cell_type": "code",
   "execution_count": null,
   "metadata": {},
   "outputs": [],
   "source": [
    "#Modelo sin GridsearchCV.\n",
    "clftree_no_GCV = model_no_GCV(DecisionTreeClassifier(random_state = 42, criterion = \"gini\"), X_train_transf, y_train, X_test_transf, y_test)\n",
    "clftree_no_GCV"
   ]
  },
  {
   "cell_type": "code",
   "execution_count": null,
   "metadata": {},
   "outputs": [],
   "source": [
    "#Modelo con GridsearchCV.\n",
    "clftree_gridsearch_params = { \"criterion\" : [\"gini\", \"entropy\"], \"min_samples_leaf\" : [5, 10, 15, None], \n",
    "                             \"max_depth\" : [1, 2, 3, 4, 5, 6, 8, 9, 10, None], \"min_samples_split\" : [2, 3, None]}\n",
    "clftree_GCV = model_GCV(DecisionTreeClassifier(random_state = 42, criterion = \"gini\"), \n",
    "                        X_train_transf, y_train, X_test_transf, y_test, clftree_gridsearch_params)\n",
    "clftree_GCV"
   ]
  },
  {
   "cell_type": "code",
   "execution_count": null,
   "metadata": {},
   "outputs": [],
   "source": [
    "#Feature importance DataFrame.\n",
    "clftree_feature_importance_DataFrame = feature_importance_DataFrame(DecisionTreeClassifier(criterion = 'entropy', \n",
    "                                                                                           max_depth = 8, min_samples_leaf = 5, random_state = 42), \n",
    "                                                                    X_train_transf, y_train)\n",
    "clftree_feature_importance_DataFrame"
   ]
  },
  {
   "cell_type": "code",
   "execution_count": null,
   "metadata": {},
   "outputs": [],
   "source": [
    "#Feature importance plot.\n",
    "clftree_feature_importance_plot = feature_importance_plot(DecisionTreeClassifier(criterion = 'entropy', \n",
    "                                                                                           max_depth = 8, min_samples_leaf = 5, random_state = 42), \n",
    "                                                                    X_train_transf, y_train)\n",
    "clftree_feature_importance_plot"
   ]
  },
  {
   "cell_type": "code",
   "execution_count": null,
   "metadata": {},
   "outputs": [],
   "source": [
    "#Modelo undersampling sin GridsearchCV.\n",
    "clftree_no_GCV_undersampling = model_no_GCV_undersampling(DecisionTreeClassifier(criterion = 'entropy', max_depth = 8, min_samples_leaf = 5, \n",
    "                                                                                 random_state = 42), X_train_transf, y_train, X_test_transf, y_test)\n",
    "clftree_no_GCV_undersampling"
   ]
  },
  {
   "cell_type": "code",
   "execution_count": null,
   "metadata": {},
   "outputs": [],
   "source": [
    "#Modelo oversampling sin GridsearchCV.\n",
    "clftree_no_GCV_oversampling = model_no_GCV_oversampling(DecisionTreeClassifier(criterion = 'entropy', max_depth = 8, min_samples_leaf = 5, \n",
    "                                                                                 random_state = 42), X_train_transf, y_train, X_test_transf, y_test)\n",
    "clftree_no_GCV_oversampling"
   ]
  },
  {
   "cell_type": "code",
   "execution_count": 94,
   "metadata": {},
   "outputs": [
    {
     "name": "stderr",
     "output_type": "stream",
     "text": [
      "C:\\Users\\Juan\\Anaconda3\\lib\\site-packages\\sklearn\\metrics\\_classification.py:1221: UndefinedMetricWarning: Precision and F-score are ill-defined and being set to 0.0 in labels with no predicted samples. Use `zero_division` parameter to control this behavior.\n",
      "  _warn_prf(average, modifier, msg_start, len(result))\n"
     ]
    },
    {
     "name": "stdout",
     "output_type": "stream",
     "text": [
      "score_train_rfecv\n",
      "score_test_rfecv\n",
      "confusion_matrix_rfecv\n"
     ]
    },
    {
     "data": {
      "text/plain": [
       "{'score_train_rfecv': [None,\n",
       "                precision    recall  f1-score      support\n",
       "  ClassicRock    0.907968  0.967105  0.936604  1520.000000\n",
       "  Classical      0.961435  0.989843  0.975432  1083.000000\n",
       "  Dance_Techno   0.000000  0.000000  0.000000    16.000000\n",
       "  Forro          0.000000  0.000000  0.000000     5.000000\n",
       "  Hymns          0.995798  0.979339  0.987500   242.000000\n",
       "  Jazz           0.961864  0.965957  0.963907   235.000000\n",
       "  NEW-AGE        0.721805  0.755906  0.738462   127.000000\n",
       "  Punk           0.891304  0.706897  0.788462    58.000000\n",
       "  REGGAE         0.727273  0.250000  0.372093    32.000000\n",
       "  Samba&Bossa    0.843750  0.519231  0.642857    52.000000\n",
       "  TANGO          0.956522  0.745763  0.838095    59.000000\n",
       "  latina         0.763514  0.579487  0.658892   195.000000\n",
       "  accuracy       0.920254  0.920254  0.920254     0.920254\n",
       "  macro avg      0.727603  0.621627  0.658525  3624.000000\n",
       "  weighted avg   0.911755  0.920254  0.912888  3624.000000],\n",
       " 'score_test_rfecv': [None,\n",
       "                precision    recall  f1-score      support\n",
       "  ClassicRock    0.844402  0.877712  0.860735   507.000000\n",
       "  Classical      0.908616  0.963989  0.935484   361.000000\n",
       "  Dance_Techno   0.000000  0.000000  0.000000     5.000000\n",
       "  Forro          0.000000  0.000000  0.000000     2.000000\n",
       "  Hymns          0.986842  0.937500  0.961538    80.000000\n",
       "  Jazz           0.924051  0.935897  0.929936    78.000000\n",
       "  NEW-AGE        0.488889  0.523810  0.505747    42.000000\n",
       "  Punk           0.562500  0.450000  0.500000    20.000000\n",
       "  REGGAE         0.428571  0.272727  0.333333    11.000000\n",
       "  Samba&Bossa    0.461538  0.352941  0.400000    17.000000\n",
       "  TANGO          0.800000  0.400000  0.533333    20.000000\n",
       "  latina         0.461538  0.369231  0.410256    65.000000\n",
       "  accuracy       0.838576  0.838576  0.838576     0.838576\n",
       "  macro avg      0.572246  0.506984  0.530864  1208.000000\n",
       "  weighted avg   0.825736  0.838576  0.829968  1208.000000],\n",
       " 'confusion_matrix_rfecv': [None,\n",
       "  <AxesSubplot:xlabel='Predicho', ylabel='Reales'>]}"
      ]
     },
     "execution_count": 94,
     "metadata": {},
     "output_type": "execute_result"
    },
    {
     "data": {
      "image/png": "[encoded data removed]",
      "text/plain": [
       "<Figure size 432x288 with 2 Axes>"
      ]
     },
     "metadata": {
      "needs_background": "light"
     },
     "output_type": "display_data"
    }
   ],
   "source": [
    "clftree_RFECV = RFECV_features(DecisionTreeClassifier(criterion = 'entropy', max_depth = 8, min_samples_leaf = 5, random_state = 42), \n",
    "                               X_train_transf, y_train, X_test_transf, y_test)\n",
    "clftree_RFECV"
   ]
  },
  {
   "cell_type": "code",
   "execution_count": null,
   "metadata": {},
   "outputs": [],
   "source": []
  }
 ],
 "metadata": {
  "kernelspec": {
   "display_name": "Python 3",
   "language": "python",
   "name": "python3"
  },
  "language_info": {
   "codemirror_mode": {
    "name": "ipython",
    "version": 3
   },
   "file_extension": ".py",
   "mimetype": "text/x-python",
   "name": "python",
   "nbconvert_exporter": "python",
   "pygments_lexer": "ipython3",
   "version": "3.7.7"
  }
 },
 "nbformat": 4,
 "nbformat_minor": 4
}
